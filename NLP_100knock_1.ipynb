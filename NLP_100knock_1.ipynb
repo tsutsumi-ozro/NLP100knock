{
  "nbformat": 4,
  "nbformat_minor": 0,
  "metadata": {
    "colab": {
      "name": "NLP_100knock_1.ipynb",
      "provenance": [],
      "collapsed_sections": [],
      "authorship_tag": "ABX9TyPZO08IhMFzJIXY/n9OODpj",
      "include_colab_link": true
    },
    "kernelspec": {
      "name": "python3",
      "display_name": "Python 3"
    },
    "language_info": {
      "name": "python"
    }
  },
  "cells": [
    {
      "cell_type": "markdown",
      "metadata": {
        "id": "view-in-github",
        "colab_type": "text"
      },
      "source": [
        "<a href=\"https://colab.research.google.com/github/tsutsumi-ozro/NLP100knock/blob/main/NLP_100knock_1.ipynb\" target=\"_parent\"><img src=\"https://colab.research.google.com/assets/colab-badge.svg\" alt=\"Open In Colab\"/></a>"
      ]
    },
    {
      "cell_type": "markdown",
      "source": [
        "# 第1章: 準備運動"
      ],
      "metadata": {
        "id": "3N40kb1-KTnk"
      }
    },
    {
      "cell_type": "markdown",
      "source": [
        "[言語処理100本ノック](https://nlp100.github.io/ja/ch01.html)"
      ],
      "metadata": {
        "id": "6VOqG96COs2T"
      }
    },
    {
      "cell_type": "markdown",
      "source": [
        "## 00. 文字列の逆順\n",
        "文字列”stressed”の文字を逆に（末尾から先頭に向かって）並べた文字列を得よ．"
      ],
      "metadata": {
        "id": "LUxY9BeMK27L"
      }
    },
    {
      "cell_type": "code",
      "source": [
        "text = 'stressed'\n",
        "print(text[::-1])"
      ],
      "metadata": {
        "colab": {
          "base_uri": "https://localhost:8080/"
        },
        "id": "NgFxxsfUK-5y",
        "outputId": "7d26d0a9-4144-4a8b-d547-f7a2b9e0c9bb"
      },
      "execution_count": null,
      "outputs": [
        {
          "output_type": "stream",
          "name": "stdout",
          "text": [
            "desserts\n"
          ]
        }
      ]
    },
    {
      "cell_type": "markdown",
      "source": [
        "## 01. 「パタトクカシーー」\n",
        "「パタトクカシーー」という文字列の1,3,5,7文字目を取り出して連結した文字列を得よ．"
      ],
      "metadata": {
        "id": "C8_6bSLgLEVU"
      }
    },
    {
      "cell_type": "code",
      "source": [
        "text = 'パタトクカシーー'\n",
        "print(text[0::2])\n",
        "print(text[1::2])"
      ],
      "metadata": {
        "colab": {
          "base_uri": "https://localhost:8080/"
        },
        "id": "fyiAhaBZLQXF",
        "outputId": "04e694e1-0d28-4089-e64d-30092614f6e9"
      },
      "execution_count": null,
      "outputs": [
        {
          "output_type": "stream",
          "name": "stdout",
          "text": [
            "パトカー\n",
            "タクシー\n"
          ]
        }
      ]
    },
    {
      "cell_type": "markdown",
      "source": [
        "## 02. 「パトカー」＋「タクシー」＝「パタトクカシーー」\n",
        "「パトカー」＋「タクシー」の文字を先頭から交互に連結して文字列「パタトクカシーー」を得よ．"
      ],
      "metadata": {
        "id": "o2aaV_XvLY9N"
      }
    },
    {
      "cell_type": "code",
      "source": [
        "text1 = \"パトカー\"\n",
        "text2 = \"タクシー\"\n",
        "ans = []\n",
        "for i in range(4):\n",
        "  ans.append(text1[i])\n",
        "  ans.append(text2[i])\n",
        "print(ans)"
      ],
      "metadata": {
        "colab": {
          "base_uri": "https://localhost:8080/"
        },
        "id": "iyT6YjSxLkth",
        "outputId": "a9bd56ab-c183-4c54-cde7-43b2076f4426"
      },
      "execution_count": null,
      "outputs": [
        {
          "output_type": "stream",
          "name": "stdout",
          "text": [
            "['パ', 'タ', 'ト', 'ク', 'カ', 'シ', 'ー', 'ー']\n"
          ]
        }
      ]
    },
    {
      "cell_type": "code",
      "source": [
        "#模範解答\n",
        "#https://kakedashi-engineer.appspot.com/2020/05/09/nlp100-ch1/\n",
        "s1 = 'パトカー'\n",
        "s2 = 'タクシー'\n",
        "print (''.join([a+b for a,b in zip(s1,s2)]))"
      ],
      "metadata": {
        "colab": {
          "base_uri": "https://localhost:8080/"
        },
        "id": "q1tf3XDZMCII",
        "outputId": "47f83747-966d-412a-de4d-711f48a640c7"
      },
      "execution_count": null,
      "outputs": [
        {
          "output_type": "stream",
          "name": "stdout",
          "text": [
            "パタトクカシーー\n"
          ]
        }
      ]
    },
    {
      "cell_type": "markdown",
      "source": [
        "## 03. 円周率\n",
        "“Now I need a drink, alcoholic of course, after the heavy lectures involving quantum mechanics.”という文を単語に分解し，各単語の（アルファベットの）文字数を先頭から出現順に並べたリストを作成せよ．"
      ],
      "metadata": {
        "id": "NisN--sqMU7g"
      }
    },
    {
      "cell_type": "code",
      "source": [
        "text = \"Now I need a drink, alcoholic of course, after the heavy lectures involving quantum mechanics.\"\n",
        "text = text.replace(\".\", \"\").replace(\",\", \"\")\n",
        "words = text.split(\" \")\n",
        "print(words)\n",
        "len_words = []\n",
        "for i in range(len(words)):\n",
        "  len_words.append(len(words[i]))\n",
        "print(len_words)"
      ],
      "metadata": {
        "colab": {
          "base_uri": "https://localhost:8080/"
        },
        "id": "7bj-MkO0MzsA",
        "outputId": "9983182c-72dc-49b8-b505-4c41c173cf68"
      },
      "execution_count": null,
      "outputs": [
        {
          "output_type": "stream",
          "name": "stdout",
          "text": [
            "['Now', 'I', 'need', 'a', 'drink', 'alcoholic', 'of', 'course', 'after', 'the', 'heavy', 'lectures', 'involving', 'quantum', 'mechanics']\n",
            "[3, 1, 4, 1, 5, 9, 2, 6, 5, 3, 5, 8, 9, 7, 9]\n"
          ]
        }
      ]
    },
    {
      "cell_type": "code",
      "source": [
        "#模範解答\n",
        "#https://kakedashi-engineer.appspot.com/2020/05/09/nlp100-ch1/\n",
        "s = \"Now I need a drink, alcoholic of course, after the heavy lectures involving quantum mechanics.\"\n",
        "s = s.replace(',','').replace('.','')\n",
        "[len(w) for w in s.split()]"
      ],
      "metadata": {
        "colab": {
          "base_uri": "https://localhost:8080/"
        },
        "id": "oRiDC6IVNJ0V",
        "outputId": "9d53fc25-1cba-4d35-ee90-02e6961af07f"
      },
      "execution_count": null,
      "outputs": [
        {
          "output_type": "execute_result",
          "data": {
            "text/plain": [
              "[3, 1, 4, 1, 5, 9, 2, 6, 5, 3, 5, 8, 9, 7, 9]"
            ]
          },
          "metadata": {},
          "execution_count": 15
        }
      ]
    },
    {
      "cell_type": "markdown",
      "source": [
        "## 04. 元素記号\n",
        "“Hi He Lied Because Boron Could Not Oxidize Fluorine. New Nations Might Also Sign Peace Security Clause. Arthur King Can.”という文を単語に分解し，1, 5, 6, 7, 8, 9, 15, 16, 19番目の単語は先頭の1文字，それ以外の単語は先頭の2文字を取り出し，取り出した文字列から単語の位置（先頭から何番目の単語か）への連想配列（辞書型もしくはマップ型）を作成せよ．\n",
        "\n"
      ],
      "metadata": {
        "id": "SE8HIlYSOLuY"
      }
    },
    {
      "cell_type": "code",
      "source": [
        "#参考　https://kakedashi-engineer.appspot.com/2020/05/09/nlp100-ch1/\n",
        "#enumerateの参考　https://note.nkmk.me/python-enumerate-start/\n",
        "text = \"Hi He Lied Because Boron Could Not Oxidize Fluorine. New Nations Might Also Sign Peace Security Clause. Arthur King Can.\"\n",
        "text = text.replace(\".\", \"\")\n",
        "idx = [1, 5, 6, 7, 8, 9, 15, 16, 19]\n",
        "mp = {}\n",
        "for i, w in enumerate(text.split(\" \")):\n",
        "  if (i+1) in idx:\n",
        "    v = w[:1]\n",
        "  else:\n",
        "    v = w[:2]\n",
        "  mp[v] = i+1\n",
        "print(mp)\n"
      ],
      "metadata": {
        "colab": {
          "base_uri": "https://localhost:8080/"
        },
        "id": "9tk4okZsOqiD",
        "outputId": "df1e3d99-c0d0-44c3-fffb-d9c95bf6bc5b"
      },
      "execution_count": null,
      "outputs": [
        {
          "output_type": "stream",
          "name": "stdout",
          "text": [
            "{'H': 1, 'He': 2, 'Li': 3, 'Be': 4, 'B': 5, 'C': 6, 'N': 7, 'O': 8, 'F': 9, 'Ne': 10, 'Na': 11, 'Mi': 12, 'Al': 13, 'Si': 14, 'P': 15, 'S': 16, 'Cl': 17, 'Ar': 18, 'K': 19, 'Ca': 20}\n"
          ]
        }
      ]
    },
    {
      "cell_type": "markdown",
      "source": [
        "## 05. n-gram\n",
        "与えられたシーケンス（文字列やリストなど）からn-gramを作る関数を作成せよ．この関数を用い，”I am an NLPer”という文から単語bi-gram，文字bi-gramを得よ．"
      ],
      "metadata": {
        "id": "5rqaItUUPMyY"
      }
    },
    {
      "cell_type": "code",
      "source": [
        "#参考 https://qiita.com/kazmaw/items/4df328cba6429ec210fb\n",
        "text = \"I am an NLPer\"\n",
        "def n_gram(target, n):\n",
        "  return [target[idx:idx+n] for idx in range(len(target) - n + 1)]\n",
        "print(n_gram(text, 2))\n",
        "words = text.split(\" \")\n",
        "print(n_gram(words, 2))"
      ],
      "metadata": {
        "colab": {
          "base_uri": "https://localhost:8080/"
        },
        "id": "VElIGVZbQw3t",
        "outputId": "7ea6e8c5-b31d-4339-cb3a-4f5bd210ea4b"
      },
      "execution_count": null,
      "outputs": [
        {
          "output_type": "stream",
          "name": "stdout",
          "text": [
            "['I ', ' a', 'am', 'm ', ' a', 'an', 'n ', ' N', 'NL', 'LP', 'Pe', 'er']\n",
            "[['I', 'am'], ['am', 'an'], ['an', 'NLPer']]\n"
          ]
        }
      ]
    },
    {
      "cell_type": "markdown",
      "source": [
        "## 06. 集合\n",
        "“paraparaparadise”と”paragraph”に含まれる文字bi-gramの集合を，それぞれ, XとYとして求め，XとYの和集合，積集合，差集合を求めよ．さらに，’se’というbi-gramがXおよびYに含まれるかどうかを調べよ．"
      ],
      "metadata": {
        "id": "AbFdAWTpT5MM"
      }
    },
    {
      "cell_type": "code",
      "source": [
        "#参考　https://note.nkmk.me/python-set/\n",
        "#参考　https://note.nkmk.me/python-str-search/\n",
        "text1 = \"paraparaparadise\"\n",
        "text2 = \"paragraph\"\n",
        "X = n_gram(text1, 2)\n",
        "Y = n_gram(text2, 2)\n",
        "print(set(X) | set(Y))\n",
        "print(set(X) & set(Y))\n",
        "print(set(X) - set(Y))\n",
        "print('se' in X or Y)"
      ],
      "metadata": {
        "colab": {
          "base_uri": "https://localhost:8080/"
        },
        "id": "eriWyhyYUmHS",
        "outputId": "60a81b54-59a6-426b-8da9-1995bd297cc4"
      },
      "execution_count": null,
      "outputs": [
        {
          "output_type": "stream",
          "name": "stdout",
          "text": [
            "{'se', 'is', 'ph', 'ad', 'ag', 'ra', 'pa', 'ar', 'di', 'gr', 'ap'}\n",
            "{'ar', 'ap', 'ra', 'pa'}\n",
            "{'is', 'di', 'se', 'ad'}\n",
            "True\n"
          ]
        }
      ]
    },
    {
      "cell_type": "markdown",
      "source": [
        "## 07. テンプレートによる文生成\n",
        "引数x, y, zを受け取り「x時のyはz」という文字列を返す関数を実装せよ．さらに，x=12, y=”気温”, z=22.4として，実行結果を確認せよ．"
      ],
      "metadata": {
        "id": "0I9vKqcVVW5F"
      }
    },
    {
      "cell_type": "code",
      "source": [
        "def time_wether(x, y, z):\n",
        "  return f'{x}時の{y}は{z}'\n",
        "time_wether(12, '気温', 22.4)"
      ],
      "metadata": {
        "colab": {
          "base_uri": "https://localhost:8080/",
          "height": 35
        },
        "id": "fPGAlLPqWPKr",
        "outputId": "31a03af5-4f80-4664-ba57-86001aaf05e5"
      },
      "execution_count": null,
      "outputs": [
        {
          "output_type": "execute_result",
          "data": {
            "text/plain": [
              "'12時の気温は22.4'"
            ],
            "application/vnd.google.colaboratory.intrinsic+json": {
              "type": "string"
            }
          },
          "metadata": {},
          "execution_count": 30
        }
      ]
    },
    {
      "cell_type": "markdown",
      "source": [
        "## 08. 暗号文\n",
        "与えられた文字列の各文字を，以下の仕様で変換する関数cipherを実装せよ．\n",
        "\n",
        "英小文字ならば(219 - 文字コード)の文字に置換<br>\n",
        "その他の文字はそのまま出力<br>\n",
        "この関数を用い，英語のメッセージを暗号化・復号化せよ．\n",
        "\n"
      ],
      "metadata": {
        "id": "OqWC3YZKWiiN"
      }
    },
    {
      "cell_type": "code",
      "source": [
        "#参考 https://yumarublog.com/python/ord/\n",
        "# https://kakedashi-engineer.appspot.com/2020/05/09/nlp100-ch1/\n",
        "def cipher(target):\n",
        "  new = []\n",
        "  for i in target:\n",
        "    if 97 <= ord(i) <= 122:\n",
        "      i = chr(219 - ord(i))\n",
        "    new.append(i)\n",
        "  return ''.join(new)"
      ],
      "metadata": {
        "id": "vjXL38HaWySi"
      },
      "execution_count": null,
      "outputs": []
    },
    {
      "cell_type": "markdown",
      "source": [
        "## 09. Typoglycemia\n",
        "スペースで区切られた単語列に対して，各単語の先頭と末尾の文字は残し，それ以外の文字の順序をランダムに並び替えるプログラムを作成せよ．ただし，長さが４以下の単語は並び替えないこととする．適当な英語の文（例えば”I couldn’t believe that I could actually understand what I was reading : the phenomenal power of the human mind .”）を与え，その実行結果を確認せよ"
      ],
      "metadata": {
        "id": "HHhDzEQFXhTc"
      }
    },
    {
      "cell_type": "code",
      "source": [
        "import random\n",
        "def typoglycemia(target):\n",
        "  words = target.split(\" \")\n",
        "  ans = []\n",
        "  for word in words:\n",
        "    if (len(word) > 4):\n",
        "      mid = list(word[1:-1])\n",
        "      random.shuffle(mid)\n",
        "      word = word[0] + ''.join(mid) + word[-1]\n",
        "      ans.append(word)\n",
        "    else:\n",
        "      ans.append(word)\n",
        "  return ' '.join(ans)"
      ],
      "metadata": {
        "id": "IWcqQzOLYxm4"
      },
      "execution_count": null,
      "outputs": []
    },
    {
      "cell_type": "code",
      "source": [
        "s = \"I couldn’t believe that I could actually understand what I was reading : the phenomenal power of the human mind .\"\n",
        "typoglycemia(s)"
      ],
      "metadata": {
        "colab": {
          "base_uri": "https://localhost:8080/",
          "height": 35
        },
        "id": "f2IJli1-Zegu",
        "outputId": "e8ec9ec8-671b-4295-f6da-023653d1c02d"
      },
      "execution_count": null,
      "outputs": [
        {
          "output_type": "execute_result",
          "data": {
            "text/plain": [
              "'I cudn’lot bveiele that I colud alauclty udnsanetrd what I was rindaeg : the pmenaonehl pewor of the hmaun mind .'"
            ],
            "application/vnd.google.colaboratory.intrinsic+json": {
              "type": "string"
            }
          },
          "metadata": {},
          "execution_count": 41
        }
      ]
    },
    {
      "cell_type": "code",
      "source": [
        ""
      ],
      "metadata": {
        "id": "21Y9ZjNxZo0J"
      },
      "execution_count": null,
      "outputs": []
    }
  ]
}