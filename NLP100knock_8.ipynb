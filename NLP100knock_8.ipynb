{
  "nbformat": 4,
  "nbformat_minor": 0,
  "metadata": {
    "colab": {
      "name": "NLP100knock_8.ipynb",
      "provenance": [],
      "authorship_tag": "ABX9TyPzqhL8rWoCzZOWD2K1gKem",
      "include_colab_link": true
    },
    "kernelspec": {
      "name": "python3",
      "display_name": "Python 3"
    },
    "language_info": {
      "name": "python"
    },
    "accelerator": "GPU"
  },
  "cells": [
    {
      "cell_type": "markdown",
      "metadata": {
        "id": "view-in-github",
        "colab_type": "text"
      },
      "source": [
        "<a href=\"https://colab.research.google.com/github/tsutsumi-ozro/NLP100knock/blob/main/NLP100knock_8.ipynb\" target=\"_parent\"><img src=\"https://colab.research.google.com/assets/colab-badge.svg\" alt=\"Open In Colab\"/></a>"
      ]
    },
    {
      "cell_type": "markdown",
      "source": [
        "# 第8章: ニューラルネット\n",
        "第6章で取り組んだニュース記事のカテゴリ分類を題材として，ニューラルネットワークでカテゴリ分類モデルを実装する．なお，この章ではPyTorch, TensorFlow, Chainerなどの機械学習プラットフォームを活用せよ"
      ],
      "metadata": {
        "id": "hJeEHfDPv950"
      }
    },
    {
      "cell_type": "markdown",
      "source": [
        "## 70. 単語ベクトルの和による特徴量\n",
        "問題50で構築した学習データ，検証データ，評価データを行列・ベクトルに変換したい．例えば，学習データについて，すべての事例xiの特徴ベクトルxiを並べた行列Xと，正解ラベルを並べた行列（ベクトル）Yを作成したい．\n",
        "\n"
      ],
      "metadata": {
        "id": "SLAnqgqFwNEV"
      }
    },
    {
      "cell_type": "code",
      "source": [
        "# データのダウンロード\n",
        "!wget https://archive.ics.uci.edu/ml/machine-learning-databases/00359/NewsAggregatorDataset.zip\n",
        "!unzip NewsAggregatorDataset.zip"
      ],
      "metadata": {
        "colab": {
          "base_uri": "https://localhost:8080/"
        },
        "id": "KlhpshkowvRG",
        "outputId": "9f882870-1e29-4911-bc28-2ef0470cc97a"
      },
      "execution_count": 1,
      "outputs": [
        {
          "output_type": "stream",
          "name": "stdout",
          "text": [
            "--2022-04-16 02:37:55--  https://archive.ics.uci.edu/ml/machine-learning-databases/00359/NewsAggregatorDataset.zip\n",
            "Resolving archive.ics.uci.edu (archive.ics.uci.edu)... 128.195.10.252\n",
            "Connecting to archive.ics.uci.edu (archive.ics.uci.edu)|128.195.10.252|:443... connected.\n",
            "HTTP request sent, awaiting response... 200 OK\n",
            "Length: 29224203 (28M) [application/x-httpd-php]\n",
            "Saving to: ‘NewsAggregatorDataset.zip’\n",
            "\n",
            "NewsAggregatorDatas 100%[===================>]  27.87M  13.3MB/s    in 2.1s    \n",
            "\n",
            "2022-04-16 02:37:58 (13.3 MB/s) - ‘NewsAggregatorDataset.zip’ saved [29224203/29224203]\n",
            "\n",
            "Archive:  NewsAggregatorDataset.zip\n",
            "  inflating: 2pageSessions.csv       \n",
            "   creating: __MACOSX/\n",
            "  inflating: __MACOSX/._2pageSessions.csv  \n",
            "  inflating: newsCorpora.csv         \n",
            "  inflating: __MACOSX/._newsCorpora.csv  \n",
            "  inflating: readme.txt              \n",
            "  inflating: __MACOSX/._readme.txt   \n"
          ]
        }
      ]
    },
    {
      "cell_type": "code",
      "source": [
        "# 読込時のエラー回避のためダブルクォーテーションをシングルクォーテーションに置換\n",
        "!sed -e 's/\"/'\\''/g' ./newsCorpora.csv > ./newsCorpora_re.csv"
      ],
      "metadata": {
        "id": "91NZZeU-x0JA"
      },
      "execution_count": 2,
      "outputs": []
    },
    {
      "cell_type": "code",
      "source": [
        "import pandas as pd\n",
        "from sklearn.model_selection import train_test_split\n",
        "df = pd.read_csv('/content/newsCorpora_re.csv', header=None, sep='\\t', names=['ID', 'TITLE', 'URL', 'PUBLISHER', 'CATEGORY', 'STORY', 'HOSTNAME', 'TIMESTAMP'])\n",
        "\n",
        "# データの抽出\n",
        "df = df.loc[df['PUBLISHER'].isin(['Reuters', 'Huffington Post', 'Businessweek', 'Contactmusic.com', 'Daily Mail']), ['TITLE', 'CATEGORY']]\n",
        "\n",
        "# データの分割\n",
        "train, valid_test = train_test_split(df, test_size=0.2, shuffle=True, random_state=123, stratify=df['CATEGORY'])\n",
        "valid, test = train_test_split(valid_test, test_size=0.5, shuffle=True, random_state=123, stratify=valid_test['CATEGORY'])\n",
        "\n",
        "# 事例数の確認\n",
        "print('【学習データ】')\n",
        "print(train['CATEGORY'].value_counts())\n",
        "print('【検証データ】')\n",
        "print(valid['CATEGORY'].value_counts())\n",
        "print('【評価データ】')\n",
        "print(test['CATEGORY'].value_counts())"
      ],
      "metadata": {
        "colab": {
          "base_uri": "https://localhost:8080/"
        },
        "id": "Hrh3gPRfx12j",
        "outputId": "8122b811-8269-4a61-a2d7-8d8f2948216a"
      },
      "execution_count": 3,
      "outputs": [
        {
          "output_type": "stream",
          "name": "stdout",
          "text": [
            "【学習データ】\n",
            "b    4501\n",
            "e    4235\n",
            "t    1220\n",
            "m     728\n",
            "Name: CATEGORY, dtype: int64\n",
            "【検証データ】\n",
            "b    563\n",
            "e    529\n",
            "t    153\n",
            "m     91\n",
            "Name: CATEGORY, dtype: int64\n",
            "【評価データ】\n",
            "b    563\n",
            "e    530\n",
            "t    152\n",
            "m     91\n",
            "Name: CATEGORY, dtype: int64\n"
          ]
        }
      ]
    },
    {
      "cell_type": "code",
      "source": [
        "import gdown\n",
        "from gensim.models import KeyedVectors\n",
        "\n",
        "# 学習済み単語ベクトルのダウンロード\n",
        "url = \"https://drive.google.com/uc?id=0B7XkCwpI5KDYNlNUTTlSS21pQmM\"\n",
        "output = 'GoogleNews-vectors-negative300.bin.gz'\n",
        "gdown.download(url, output, quiet=True)\n",
        "\n",
        "# ダウンロードファイルのロード\n",
        "model = KeyedVectors.load_word2vec_format('GoogleNews-vectors-negative300.bin.gz', binary=True)"
      ],
      "metadata": {
        "id": "xPBN0hY8ysaJ"
      },
      "execution_count": 4,
      "outputs": []
    },
    {
      "cell_type": "code",
      "source": [
        "import string\n",
        "import torch\n",
        "def transform_x2v(text):\n",
        "  table = str.maketrans(string.punctuation, ' '*len(string.punctuation))\n",
        "  words = text.translate(table).split() #記号をスペースに置換して、スペースで分割してリスト化\n",
        "  vec = [model[word] for word in words if word in model]\n",
        "\n",
        "  return torch.tensor(sum(vec) / len(vec))"
      ],
      "metadata": {
        "id": "d3bG8eUVy0Lv"
      },
      "execution_count": 5,
      "outputs": []
    },
    {
      "cell_type": "code",
      "source": [
        "#特徴ベクトルの作成\n",
        "X_train = torch.stack([transform_x2v(text) for text in train['TITLE']])\n",
        "X_valid = torch.stack([transform_x2v(text) for text in valid['TITLE']])\n",
        "X_test = torch.stack([transform_x2v(text) for text in test['TITLE']])\n",
        "print(X_train.size())\n",
        "print(X_train)"
      ],
      "metadata": {
        "colab": {
          "base_uri": "https://localhost:8080/"
        },
        "id": "lmVsrPECzi4x",
        "outputId": "c8f21f46-fcae-43ef-e3e9-9912d2e1159b"
      },
      "execution_count": 6,
      "outputs": [
        {
          "output_type": "stream",
          "name": "stdout",
          "text": [
            "torch.Size([10684, 300])\n",
            "tensor([[ 0.0837,  0.0056,  0.0068,  ...,  0.0751,  0.0433, -0.0868],\n",
            "        [ 0.0272,  0.0266, -0.0947,  ..., -0.1046, -0.0489, -0.0092],\n",
            "        [ 0.0577, -0.0159, -0.0780,  ..., -0.0421,  0.1229,  0.0876],\n",
            "        ...,\n",
            "        [ 0.0392, -0.0052,  0.0686,  ..., -0.0175,  0.0061, -0.0224],\n",
            "        [ 0.0798,  0.1017,  0.1066,  ..., -0.0752,  0.0623,  0.1138],\n",
            "        [ 0.1664,  0.0451,  0.0508,  ..., -0.0531, -0.0183, -0.0039]])\n"
          ]
        }
      ]
    },
    {
      "cell_type": "code",
      "source": [
        "#ラベルベクトルの作成\n",
        "category_dict = {'b':0, 't':1, 'e':2, 'm':3}\n",
        "y_train = torch.tensor(train['CATEGORY'].map(lambda x: category_dict[x]).values)\n",
        "y_valid = torch.tensor(valid['CATEGORY'].map(lambda x: category_dict[x]).values)\n",
        "y_test = torch.tensor(test['CATEGORY'].map(lambda x: category_dict[x]).values)\n",
        "\n",
        "print(y_train.size())\n",
        "print(y_train)\n"
      ],
      "metadata": {
        "colab": {
          "base_uri": "https://localhost:8080/"
        },
        "id": "DHyTRj4P0nlT",
        "outputId": "fe919203-151e-497f-ee80-49942df74fc0"
      },
      "execution_count": 7,
      "outputs": [
        {
          "output_type": "stream",
          "name": "stdout",
          "text": [
            "torch.Size([10684])\n",
            "tensor([0, 1, 3,  ..., 0, 3, 2])\n"
          ]
        }
      ]
    },
    {
      "cell_type": "code",
      "source": [
        "# 保存\n",
        "torch.save(X_train, 'X_train.pt')\n",
        "torch.save(X_valid, 'X_valid.pt')\n",
        "torch.save(X_test, 'X_test.pt')\n",
        "torch.save(y_train, 'y_train.pt')\n",
        "torch.save(y_valid, 'y_valid.pt')\n",
        "torch.save(y_test, 'y_test.pt')"
      ],
      "metadata": {
        "id": "CDFJmQpF11n7"
      },
      "execution_count": 8,
      "outputs": []
    },
    {
      "cell_type": "markdown",
      "source": [
        "## 71. 単層ニューラルネットワークによる予測\n",
        "問題70で保存した行列を読み込み，学習データについて以下の計算を実行せよ．\n"
      ],
      "metadata": {
        "id": "phmsQUS919p5"
      }
    },
    {
      "cell_type": "code",
      "source": [
        "#単層のnnを定義\n",
        "from torch import nn\n",
        "\n",
        "class SLPNet(nn.Module):\n",
        "  def __init__(self, input_size, output_size):\n",
        "    super().__init__()\n",
        "    self.fc = nn.Linear(input_size, output_size, bias=False)\n",
        "    nn.init.normal_(self.fc.weight, 0.0, 1.0)  # 正規乱数で重みを初期化\n",
        "\n",
        "  def forward(self, x):\n",
        "    x = self.fc(x)\n",
        "    return x"
      ],
      "metadata": {
        "id": "QJNZCg0C2Mxn"
      },
      "execution_count": 9,
      "outputs": []
    },
    {
      "cell_type": "code",
      "source": [
        "model = SLPNet(300, 4)  # 単層ニューラルネットワークの初期化\n",
        "y_hat_1 = torch.softmax(model(X_train[:1]), dim=-1)\n",
        "print(y_hat_1)"
      ],
      "metadata": {
        "colab": {
          "base_uri": "https://localhost:8080/"
        },
        "id": "Oj9C27uV3r6y",
        "outputId": "10ba553e-6415-4040-f216-f82263461c49"
      },
      "execution_count": 10,
      "outputs": [
        {
          "output_type": "stream",
          "name": "stdout",
          "text": [
            "tensor([[0.4842, 0.3676, 0.0197, 0.1285]], grad_fn=<SoftmaxBackward0>)\n"
          ]
        }
      ]
    },
    {
      "cell_type": "code",
      "source": [
        "Y_hat = torch.softmax(model.forward(X_train[:4]), dim=-1)\n",
        "print(Y_hat)"
      ],
      "metadata": {
        "colab": {
          "base_uri": "https://localhost:8080/"
        },
        "id": "GNGshDIj348e",
        "outputId": "d05337da-2153-4cdb-dbe3-572d6a83749e"
      },
      "execution_count": 11,
      "outputs": [
        {
          "output_type": "stream",
          "name": "stdout",
          "text": [
            "tensor([[0.4842, 0.3676, 0.0197, 0.1285],\n",
            "        [0.1471, 0.0160, 0.6819, 0.1550],\n",
            "        [0.4006, 0.0706, 0.0243, 0.5045],\n",
            "        [0.5263, 0.3272, 0.0567, 0.0898]], grad_fn=<SoftmaxBackward0>)\n"
          ]
        }
      ]
    },
    {
      "cell_type": "markdown",
      "source": [
        "## 72. 損失と勾配の計算\n",
        "学習データの事例x1と事例集合x1,x2,x3,x4に対して，クロスエントロピー損失と，行列Wに対する勾配を計算せよ"
      ],
      "metadata": {
        "id": "lgha2z307nJ8"
      }
    },
    {
      "cell_type": "code",
      "source": [
        "criterion = nn.CrossEntropyLoss()"
      ],
      "metadata": {
        "id": "kSSXpa3A7t1u"
      },
      "execution_count": 12,
      "outputs": []
    },
    {
      "cell_type": "code",
      "source": [
        "model(X_train[:1])"
      ],
      "metadata": {
        "colab": {
          "base_uri": "https://localhost:8080/"
        },
        "id": "za_l-nmW8VMj",
        "outputId": "eca6cef2-28b3-4d0c-c1ce-c887c5a82753"
      },
      "execution_count": 13,
      "outputs": [
        {
          "output_type": "execute_result",
          "data": {
            "text/plain": [
              "tensor([[ 1.7020,  1.4264, -1.4981,  0.3753]], grad_fn=<MmBackward0>)"
            ]
          },
          "metadata": {},
          "execution_count": 13
        }
      ]
    },
    {
      "cell_type": "code",
      "source": [
        "y_train[:1]"
      ],
      "metadata": {
        "colab": {
          "base_uri": "https://localhost:8080/"
        },
        "id": "4XMdraaR8cJ-",
        "outputId": "85688a34-ec43-4f3e-d8f8-f955738ff7d7"
      },
      "execution_count": 14,
      "outputs": [
        {
          "output_type": "execute_result",
          "data": {
            "text/plain": [
              "tensor([0])"
            ]
          },
          "metadata": {},
          "execution_count": 14
        }
      ]
    },
    {
      "cell_type": "code",
      "source": [
        "l_1 = criterion(model(X_train[:1]), y_train[:1])\n",
        "model.zero_grad() #Optimizer.zero_grad() 最適化されたtorch.tensorをの勾配を０にする\n",
        "l_1.backward() \n",
        "print(f'損失: {l_1:.4f}')\n",
        "print(f'勾配: \\n{model.fc.weight.grad}')"
      ],
      "metadata": {
        "colab": {
          "base_uri": "https://localhost:8080/"
        },
        "id": "G3nUBVpv72qZ",
        "outputId": "86a83861-7c9d-41fd-e763-5d3fd67b085d"
      },
      "execution_count": 16,
      "outputs": [
        {
          "output_type": "stream",
          "name": "stdout",
          "text": [
            "損失: 0.7252\n",
            "勾配: \n",
            "tensor([[-0.0432, -0.0029, -0.0035,  ..., -0.0387, -0.0223,  0.0448],\n",
            "        [ 0.0308,  0.0021,  0.0025,  ...,  0.0276,  0.0159, -0.0319],\n",
            "        [ 0.0017,  0.0001,  0.0001,  ...,  0.0015,  0.0009, -0.0017],\n",
            "        [ 0.0107,  0.0007,  0.0009,  ...,  0.0097,  0.0056, -0.0112]])\n"
          ]
        }
      ]
    },
    {
      "cell_type": "code",
      "source": [
        "l = criterion(model(X_train[:4]), y_train[:4])\n",
        "model.zero_grad()\n",
        "l.backward()\n",
        "print(f'損失: {l:.4f}')\n",
        "print(f'勾配:\\n{model.fc.weight.grad}')"
      ],
      "metadata": {
        "colab": {
          "base_uri": "https://localhost:8080/"
        },
        "id": "DY_kvK838mF-",
        "outputId": "5d5e0871-b59f-4295-9b9a-447a8ec46ac8"
      },
      "execution_count": 17,
      "outputs": [
        {
          "output_type": "stream",
          "name": "stdout",
          "text": [
            "損失: 2.1042\n",
            "勾配:\n",
            "tensor([[-0.0113,  0.0052, -0.0040,  ..., -0.0195,  0.0101,  0.0169],\n",
            "        [-0.0025, -0.0022,  0.0276,  ...,  0.0308,  0.0214, -0.0058],\n",
            "        [ 0.0185, -0.0072, -0.0312,  ..., -0.0145, -0.0166,  0.0034],\n",
            "        [-0.0046,  0.0043,  0.0076,  ...,  0.0033, -0.0149, -0.0145]])\n"
          ]
        }
      ]
    },
    {
      "cell_type": "markdown",
      "source": [
        "## 73. 確率的勾配降下法による学習\n",
        "確率的勾配降下法（SGD: Stochastic Gradient Descent）を用いて，行列Wを学習せよ．なお，学習は適当な基準で終了させればよい（例えば「100エポックで終了」など）．\n",
        "\n"
      ],
      "metadata": {
        "id": "mOYTDgvf4cEy"
      }
    },
    {
      "cell_type": "code",
      "source": [
        "from torch.utils.data import Dataset\n",
        "class NewsDataset(Dataset):\n",
        "  def __init__(self, X, y):\n",
        "    self.X = X\n",
        "    self.y = y\n",
        "  def __len__(self):\n",
        "    return len(self.y)\n",
        "  def __getitem__(self, idx):\n",
        "    return [self.X[idx], self.y[idx]]\n",
        "\n",
        "#__hogehoge__のものはclassが呼び出されたときに実行される\n"
      ],
      "metadata": {
        "id": "J48oyOEX7jMS"
      },
      "execution_count": 18,
      "outputs": []
    },
    {
      "cell_type": "code",
      "source": [
        "from torch.utils.data import DataLoader\n",
        "\n",
        "# Datasetの作成\n",
        "dataset_train = NewsDataset(X_train, y_train)\n",
        "dataset_valid = NewsDataset(X_valid, y_valid)\n",
        "dataset_test = NewsDataset(X_test, y_test)\n",
        "\n",
        "# Dataloaderの作成\n",
        "dataloader_train = DataLoader(dataset_train, batch_size=1, shuffle=True)\n",
        "dataloader_valid = DataLoader(dataset_valid, batch_size=len(dataset_valid), shuffle=False)\n",
        "dataloader_test = DataLoader(dataset_test, batch_size=len(dataset_test), shuffle=False)"
      ],
      "metadata": {
        "id": "sZOogcjL9HzC"
      },
      "execution_count": 19,
      "outputs": []
    },
    {
      "cell_type": "code",
      "source": [
        "# モデルの定義\n",
        "model = SLPNet(300, 4)\n",
        "\n",
        "# 損失関数の定義\n",
        "criterion = nn.CrossEntropyLoss()\n",
        "\n",
        "# オプティマイザの定義\n",
        "optimizer = torch.optim.SGD(model.parameters(), lr=1e-1)\n",
        "\n",
        "# 学習\n",
        "num_epochs = 10\n",
        "for epoch in range(num_epochs):\n",
        "  # 訓練モードに設定\n",
        "  model.train()\n",
        "  loss_train = 0.0\n",
        "  for i, (inputs, labels) in enumerate(dataloader_train):\n",
        "    # 勾配をゼロで初期化\n",
        "    optimizer.zero_grad()\n",
        "\n",
        "    # 順伝播 + 誤差逆伝播 + 重み更新\n",
        "    outputs = model(inputs)\n",
        "    loss = criterion(outputs, labels)\n",
        "    loss.backward()\n",
        "    optimizer.step()\n",
        "\n",
        "    # 損失を記録\n",
        "    loss_train += loss.item()\n",
        "\n",
        "  # バッチ単位の平均損失計算\n",
        "  loss_train = loss_train / i\n",
        "\n",
        "  # 検証データの損失計算\n",
        "  model.eval() \n",
        "  with torch.no_grad():\n",
        "    inputs, labels = next(iter(dataloader_valid))\n",
        "    outputs = model(inputs)\n",
        "    loss_valid = criterion(outputs, labels)\n",
        "\n",
        "  # ログを出力\n",
        "  print(f'epoch: {epoch + 1}, loss_train: {loss_train:.4f}, loss_valid: {loss_valid:.4f}')  "
      ],
      "metadata": {
        "colab": {
          "base_uri": "https://localhost:8080/"
        },
        "id": "z00txKiy9kT1",
        "outputId": "0b905f00-cbb9-4691-997c-eaf3051c03c9"
      },
      "execution_count": 21,
      "outputs": [
        {
          "output_type": "stream",
          "name": "stdout",
          "text": [
            "epoch: 1, loss_train: 0.4984, loss_valid: 0.3803\n",
            "epoch: 2, loss_train: 0.3198, loss_valid: 0.3452\n",
            "epoch: 3, loss_train: 0.2876, loss_valid: 0.3236\n",
            "epoch: 4, loss_train: 0.2703, loss_valid: 0.3222\n",
            "epoch: 5, loss_train: 0.2599, loss_valid: 0.3156\n",
            "epoch: 6, loss_train: 0.2523, loss_valid: 0.3104\n",
            "epoch: 7, loss_train: 0.2459, loss_valid: 0.3113\n",
            "epoch: 8, loss_train: 0.2416, loss_valid: 0.3090\n",
            "epoch: 9, loss_train: 0.2378, loss_valid: 0.3105\n",
            "epoch: 10, loss_train: 0.2352, loss_valid: 0.3084\n"
          ]
        }
      ]
    },
    {
      "cell_type": "markdown",
      "source": [
        "## 74. 正解率の計測\n",
        "問題73で求めた行列を用いて学習データおよび評価データの事例を分類したとき，その正解率をそれぞれ求めよ"
      ],
      "metadata": {
        "id": "NJH0piR293oA"
      }
    },
    {
      "cell_type": "code",
      "source": [
        "def calculate_accuracy(model, loader):\n",
        "  model.eval()\n",
        "  total = 0\n",
        "  correct = 0\n",
        "  with torch.no_grad():\n",
        "    for inputs, labels in loader:\n",
        "      outputs = model(inputs)\n",
        "      pred = torch.argmax(outputs, dim=-1)\n",
        "      total += len(inputs)\n",
        "      correct += (pred==labels).sum().item()\n",
        "  return correct / total"
      ],
      "metadata": {
        "id": "1akxyL4tSVNz"
      },
      "execution_count": 22,
      "outputs": []
    },
    {
      "cell_type": "code",
      "source": [
        "acc_train = calculate_accuracy(model, dataloader_train)\n",
        "acc_test = calculate_accuracy(model, dataloader_test)\n",
        "print(f'正答率(train): {acc_train:.3f}')\n",
        "print(f'正答率(test): {acc_test:.3f}')"
      ],
      "metadata": {
        "colab": {
          "base_uri": "https://localhost:8080/"
        },
        "id": "DwC0fdIbS7tZ",
        "outputId": "97d232b8-b606-4684-a20b-34cbaf7a4abf"
      },
      "execution_count": 23,
      "outputs": [
        {
          "output_type": "stream",
          "name": "stdout",
          "text": [
            "正答率(train): 0.926\n",
            "正答率(test): 0.903\n"
          ]
        }
      ]
    },
    {
      "cell_type": "markdown",
      "source": [
        "## 75. 損失と正解率のプロット\n",
        "問題73のコードを改変し，各エポックのパラメータ更新が完了するたびに，訓練データでの損失，正解率，検証データでの損失，正解率をグラフにプロットし，学習の進捗状況を確認できるようにせよ"
      ],
      "metadata": {
        "id": "m_nE2nX7Tnv6"
      }
    },
    {
      "cell_type": "code",
      "source": [
        "def calculate_loss_and_accuracy(model, criterion, loader):\n",
        "  model.eval()\n",
        "  loss = 0.0\n",
        "  total = 0\n",
        "  correct = 0\n",
        "  with torch.no_grad():\n",
        "    for inputs, labels in loader:\n",
        "      outputs = model(inputs)\n",
        "      loss += criterion(outputs, labels).item()\n",
        "      pred = torch.argmax(outputs, dim=-1)\n",
        "      total += len(inputs)\n",
        "      correct += (pred == labels).sum().item()\n",
        "  return loss/len(loader), correct/total"
      ],
      "metadata": {
        "id": "a5WL43RFTyyX"
      },
      "execution_count": 24,
      "outputs": []
    },
    {
      "cell_type": "code",
      "source": [
        "#モデルの定義\n",
        "model = SLPNet(300, 4)\n",
        "#損失関数の定義\n",
        "criterion = nn.CrossEntropyLoss()\n",
        "#optimizerの定義\n",
        "optimizer = torch.optim.SGD(model.parameters(), lr=1e-1)\n",
        "\n",
        "#学習\n",
        "num_epochs = 30\n",
        "log_train = []\n",
        "log_valid = []\n",
        "for epoch in range(num_epochs):\n",
        "  model.train()\n",
        "  for inputs, labels in dataloader_train:\n",
        "    #勾配を0で初期化\n",
        "    optimizer.zero_grad()\n",
        "\n",
        "    outputs = model(inputs)\n",
        "    loss = criterion(outputs, labels)\n",
        "    loss.backward()\n",
        "    optimizer.step()\n",
        "  \n",
        "  #損失と正答率の計算\n",
        "  loss_train, acc_train = calculate_loss_and_accuracy(model, criterion, dataloader_train)\n",
        "  loss_valid, acc_valid = calculate_loss_and_accuracy(model, criterion, dataloader_valid)\n",
        "  log_train.append([loss_train, acc_train])\n",
        "  log_valid.append([loss_valid, acc_valid])\n",
        "\n",
        "  print(f'epoch: {epoch + 1}, loss_train: {loss_train:.4f}, accuracy_train: {acc_train:.4f}, loss_valid: {loss_valid:.4f}, accuracy_valid: {acc_valid:.4f}') "
      ],
      "metadata": {
        "colab": {
          "base_uri": "https://localhost:8080/"
        },
        "id": "0ansJ1WUUakf",
        "outputId": "2ea6edd6-5aef-4b0f-b8b3-78c2a2962efe"
      },
      "execution_count": 26,
      "outputs": [
        {
          "output_type": "stream",
          "name": "stdout",
          "text": [
            "epoch: 1, loss_train: 0.3252, accuracy_train: 0.8870, loss_valid: 0.3593, accuracy_valid: 0.8780\n",
            "epoch: 2, loss_train: 0.2816, accuracy_train: 0.9053, loss_valid: 0.3301, accuracy_valid: 0.8915\n",
            "epoch: 3, loss_train: 0.2673, accuracy_train: 0.9109, loss_valid: 0.3218, accuracy_valid: 0.8945\n",
            "epoch: 4, loss_train: 0.2573, accuracy_train: 0.9139, loss_valid: 0.3225, accuracy_valid: 0.8877\n",
            "epoch: 5, loss_train: 0.2429, accuracy_train: 0.9206, loss_valid: 0.3126, accuracy_valid: 0.8937\n",
            "epoch: 6, loss_train: 0.2395, accuracy_train: 0.9201, loss_valid: 0.3129, accuracy_valid: 0.8952\n",
            "epoch: 7, loss_train: 0.2362, accuracy_train: 0.9196, loss_valid: 0.3154, accuracy_valid: 0.8930\n",
            "epoch: 8, loss_train: 0.2289, accuracy_train: 0.9238, loss_valid: 0.3093, accuracy_valid: 0.8915\n",
            "epoch: 9, loss_train: 0.2273, accuracy_train: 0.9245, loss_valid: 0.3138, accuracy_valid: 0.8922\n",
            "epoch: 10, loss_train: 0.2334, accuracy_train: 0.9205, loss_valid: 0.3209, accuracy_valid: 0.8900\n",
            "epoch: 11, loss_train: 0.2225, accuracy_train: 0.9254, loss_valid: 0.3113, accuracy_valid: 0.8952\n",
            "epoch: 12, loss_train: 0.2199, accuracy_train: 0.9270, loss_valid: 0.3117, accuracy_valid: 0.8945\n",
            "epoch: 13, loss_train: 0.2206, accuracy_train: 0.9257, loss_valid: 0.3151, accuracy_valid: 0.8960\n",
            "epoch: 14, loss_train: 0.2178, accuracy_train: 0.9283, loss_valid: 0.3123, accuracy_valid: 0.8930\n",
            "epoch: 15, loss_train: 0.2172, accuracy_train: 0.9278, loss_valid: 0.3171, accuracy_valid: 0.8922\n",
            "epoch: 16, loss_train: 0.2275, accuracy_train: 0.9203, loss_valid: 0.3320, accuracy_valid: 0.8855\n",
            "epoch: 17, loss_train: 0.2132, accuracy_train: 0.9275, loss_valid: 0.3170, accuracy_valid: 0.8937\n",
            "epoch: 18, loss_train: 0.2206, accuracy_train: 0.9243, loss_valid: 0.3249, accuracy_valid: 0.8945\n",
            "epoch: 19, loss_train: 0.2186, accuracy_train: 0.9235, loss_valid: 0.3281, accuracy_valid: 0.8900\n",
            "epoch: 20, loss_train: 0.2115, accuracy_train: 0.9291, loss_valid: 0.3170, accuracy_valid: 0.8922\n",
            "epoch: 21, loss_train: 0.2125, accuracy_train: 0.9268, loss_valid: 0.3224, accuracy_valid: 0.8922\n",
            "epoch: 22, loss_train: 0.2110, accuracy_train: 0.9280, loss_valid: 0.3212, accuracy_valid: 0.8952\n",
            "epoch: 23, loss_train: 0.2095, accuracy_train: 0.9294, loss_valid: 0.3203, accuracy_valid: 0.8937\n",
            "epoch: 24, loss_train: 0.2103, accuracy_train: 0.9292, loss_valid: 0.3244, accuracy_valid: 0.8960\n",
            "epoch: 25, loss_train: 0.2092, accuracy_train: 0.9280, loss_valid: 0.3256, accuracy_valid: 0.8922\n",
            "epoch: 26, loss_train: 0.2085, accuracy_train: 0.9276, loss_valid: 0.3236, accuracy_valid: 0.8907\n",
            "epoch: 27, loss_train: 0.2105, accuracy_train: 0.9263, loss_valid: 0.3297, accuracy_valid: 0.8930\n",
            "epoch: 28, loss_train: 0.2075, accuracy_train: 0.9307, loss_valid: 0.3240, accuracy_valid: 0.8922\n",
            "epoch: 29, loss_train: 0.2082, accuracy_train: 0.9298, loss_valid: 0.3271, accuracy_valid: 0.8922\n",
            "epoch: 30, loss_train: 0.2058, accuracy_train: 0.9302, loss_valid: 0.3263, accuracy_valid: 0.8915\n"
          ]
        }
      ]
    },
    {
      "cell_type": "code",
      "source": [
        "import matplotlib.pyplot as plt\n",
        "%matplotlib inline\n",
        "# 視覚化\n",
        "import numpy as np\n",
        "fig, ax = plt.subplots(1, 2, figsize=(15, 5))\n",
        "ax[0].plot(np.array(log_train).T[0], label='train')\n",
        "ax[0].plot(np.array(log_valid).T[0], label='valid')\n",
        "ax[0].set_xlabel('epoch')\n",
        "ax[0].set_ylabel('loss')\n",
        "ax[0].legend()\n",
        "ax[1].plot(np.array(log_train).T[1], label='train')\n",
        "ax[1].plot(np.array(log_valid).T[1], label='valid')\n",
        "ax[1].set_xlabel('epoch')\n",
        "ax[1].set_ylabel('accuracy')\n",
        "ax[1].legend()\n",
        "plt.show()"
      ],
      "metadata": {
        "colab": {
          "base_uri": "https://localhost:8080/",
          "height": 334
        },
        "id": "aW89VNeMV0C2",
        "outputId": "f626c88c-b793-437a-ea87-cef19fd8634d"
      },
      "execution_count": 28,
      "outputs": [
        {
          "output_type": "display_data",
          "data": {
            "text/plain": [
              "<Figure size 1080x360 with 2 Axes>"
            ],
            "image/png": "[encoded data removed]"
          },
          "metadata": {
            "needs_background": "light"
          }
        }
      ]
    },
    {
      "cell_type": "markdown",
      "source": [
        "## 76. チェックポイント\n",
        "問題75のコードを改変し，各エポックのパラメータ更新が完了するたびに，チェックポイント（学習途中のパラメータ（重み行列など）の値や最適化アルゴリズムの内部状態）をファイルに書き出せ．"
      ],
      "metadata": {
        "id": "1mEYxTZkWGSw"
      }
    },
    {
      "cell_type": "code",
      "source": [
        "\"\"\"\n",
        "学習途中のパラメータはmodel.state_dict()、最適化アルゴリズムの内部状態はoptimizer.state_dict()でアクセス可能なので、各エポックでエポック数と合わせて保存する処理を追加します。\n",
        "\"\"\"\n",
        "\n",
        "\n",
        "# モデルの定義\n",
        "model = SLPNet(300, 4)\n",
        "\n",
        "# 損失関数の定義\n",
        "criterion = nn.CrossEntropyLoss()\n",
        "\n",
        "# オプティマイザの定義\n",
        "optimizer = torch.optim.SGD(model.parameters(), lr=1e-1)\n",
        "\n",
        "# 学習\n",
        "num_epochs = 10\n",
        "log_train = []\n",
        "log_valid = []\n",
        "for epoch in range(num_epochs):\n",
        "  # 訓練モードに設定\n",
        "  model.train()\n",
        "  for inputs, labels in dataloader_train:\n",
        "    # 勾配をゼロで初期化\n",
        "    optimizer.zero_grad()\n",
        "\n",
        "    # 順伝播 + 誤差逆伝播 + 重み更新\n",
        "    outputs = model(inputs)\n",
        "    loss = criterion(outputs, labels)\n",
        "    loss.backward()\n",
        "    optimizer.step()\n",
        "\n",
        "  # 損失と正解率の算出\n",
        "  loss_train, acc_train = calculate_loss_and_accuracy(model, criterion, dataloader_train)\n",
        "  loss_valid, acc_valid = calculate_loss_and_accuracy(model, criterion, dataloader_valid)\n",
        "  log_train.append([loss_train, acc_train])\n",
        "  log_valid.append([loss_valid, acc_valid])\n",
        "\n",
        "  # チェックポイントの保存\n",
        "  torch.save({'epoch': epoch, 'model_state_dict': model.state_dict(), 'optimizer_state_dict': optimizer.state_dict()}, f'checkpoint{epoch + 1}.pt')\n",
        "\n",
        "  # ログを出力\n",
        "  print(f'epoch: {epoch + 1}, loss_train: {loss_train:.4f}, accuracy_train: {acc_train:.4f}, loss_valid: {loss_valid:.4f}, accuracy_valid: {acc_valid:.4f}')  "
      ],
      "metadata": {
        "colab": {
          "base_uri": "https://localhost:8080/"
        },
        "id": "euww9OnXWYFy",
        "outputId": "bd801dfb-3510-4bf8-f206-c6f6fe28d986"
      },
      "execution_count": 29,
      "outputs": [
        {
          "output_type": "stream",
          "name": "stdout",
          "text": [
            "epoch: 1, loss_train: 0.3277, accuracy_train: 0.8856, loss_valid: 0.3568, accuracy_valid: 0.8705\n",
            "epoch: 2, loss_train: 0.2862, accuracy_train: 0.8990, loss_valid: 0.3239, accuracy_valid: 0.8877\n",
            "epoch: 3, loss_train: 0.2704, accuracy_train: 0.9054, loss_valid: 0.3172, accuracy_valid: 0.8915\n",
            "epoch: 4, loss_train: 0.2566, accuracy_train: 0.9116, loss_valid: 0.3114, accuracy_valid: 0.8922\n",
            "epoch: 5, loss_train: 0.2439, accuracy_train: 0.9161, loss_valid: 0.3058, accuracy_valid: 0.8885\n",
            "epoch: 6, loss_train: 0.2375, accuracy_train: 0.9174, loss_valid: 0.3052, accuracy_valid: 0.8870\n",
            "epoch: 7, loss_train: 0.2348, accuracy_train: 0.9202, loss_valid: 0.3051, accuracy_valid: 0.8885\n",
            "epoch: 8, loss_train: 0.2308, accuracy_train: 0.9210, loss_valid: 0.3045, accuracy_valid: 0.8922\n",
            "epoch: 9, loss_train: 0.2302, accuracy_train: 0.9215, loss_valid: 0.3111, accuracy_valid: 0.8937\n",
            "epoch: 10, loss_train: 0.2256, accuracy_train: 0.9242, loss_valid: 0.3048, accuracy_valid: 0.8915\n"
          ]
        }
      ]
    },
    {
      "cell_type": "markdown",
      "source": [
        "## 77. ミニバッチ化\n",
        "問題76のコードを改変し，B事例ごとに損失・勾配を計算し，行列Wの値を更新せよ（ミニバッチ化）．Bの値を1,2,4,8,…と変化させながら，1エポックの学習に要する時間を比較せよ"
      ],
      "metadata": {
        "id": "jduheZw9Wn_l"
      }
    },
    {
      "cell_type": "code",
      "source": [
        "import time\n",
        "\n",
        "def train_model(dataset_train, dataset_valid, batch_size, model, criterion, optimizer, num_epochs):\n",
        "  # dataloaderの作成\n",
        "  dataloader_train = DataLoader(dataset_train, batch_size=batch_size, shuffle=True)\n",
        "  dataloader_valid = DataLoader(dataset_valid, batch_size=len(dataset_valid), shuffle=False)\n",
        "\n",
        "  # 学習\n",
        "  log_train = []\n",
        "  log_valid = []\n",
        "  for epoch in range(num_epochs):\n",
        "    # 開始時刻の記録\n",
        "    s_time = time.time()\n",
        "\n",
        "    # 訓練モードに設定\n",
        "    model.train()\n",
        "    for inputs, labels in dataloader_train:\n",
        "      # 勾配をゼロで初期化\n",
        "      optimizer.zero_grad()\n",
        "\n",
        "      # 順伝播 + 誤差逆伝播 + 重み更新\n",
        "      outputs = model(inputs)\n",
        "      loss = criterion(outputs, labels)\n",
        "      loss.backward()\n",
        "      optimizer.step()\n",
        "\n",
        "    # 損失と正解率の算出\n",
        "    loss_train, acc_train = calculate_loss_and_accuracy(model, criterion, dataloader_train)\n",
        "    loss_valid, acc_valid = calculate_loss_and_accuracy(model, criterion, dataloader_valid)\n",
        "    log_train.append([loss_train, acc_train])\n",
        "    log_valid.append([loss_valid, acc_valid])\n",
        "\n",
        "    # チェックポイントの保存\n",
        "    torch.save({'epoch': epoch, 'model_state_dict': model.state_dict(), 'optimizer_state_dict': optimizer.state_dict()}, f'checkpoint{epoch + 1}.pt')\n",
        "\n",
        "    # 終了時刻の記録\n",
        "    e_time = time.time()\n",
        "\n",
        "    # ログを出力\n",
        "    print(f'epoch: {epoch + 1}, loss_train: {loss_train:.4f}, accuracy_train: {acc_train:.4f}, loss_valid: {loss_valid:.4f}, accuracy_valid: {acc_valid:.4f}, {(e_time - s_time):.4f}sec') \n",
        "\n",
        "  return {'train': log_train, 'valid': log_valid}"
      ],
      "metadata": {
        "id": "HX4gkCOyWt91"
      },
      "execution_count": 30,
      "outputs": []
    },
    {
      "cell_type": "code",
      "source": [
        "# datasetの作成\n",
        "dataset_train = NewsDataset(X_train, y_train)\n",
        "dataset_valid = NewsDataset(X_valid, y_valid)\n",
        "\n",
        "# モデルの定義\n",
        "model = SLPNet(300, 4)\n",
        "\n",
        "# 損失関数の定義\n",
        "criterion = nn.CrossEntropyLoss()\n",
        "\n",
        "# オプティマイザの定義\n",
        "optimizer = torch.optim.SGD(model.parameters(), lr=1e-1)\n",
        "\n",
        "# モデルの学習\n",
        "for batch_size in [2 ** i for i in range(11)]:\n",
        "  print(f'バッチサイズ: {batch_size}')\n",
        "  log = train_model(dataset_train, dataset_valid, batch_size, model, criterion, optimizer, 1)"
      ],
      "metadata": {
        "colab": {
          "base_uri": "https://localhost:8080/"
        },
        "id": "6rCjwUjYXGf3",
        "outputId": "42f73759-11f6-4e11-df50-0f8d00c193e9"
      },
      "execution_count": 31,
      "outputs": [
        {
          "output_type": "stream",
          "name": "stdout",
          "text": [
            "バッチサイズ: 1\n",
            "epoch: 1, loss_train: 0.3252, accuracy_train: 0.8888, loss_valid: 0.3561, accuracy_valid: 0.8735, 6.4721sec\n",
            "バッチサイズ: 2\n",
            "epoch: 1, loss_train: 0.3008, accuracy_train: 0.8940, loss_valid: 0.3412, accuracy_valid: 0.8765, 2.9694sec\n",
            "バッチサイズ: 4\n",
            "epoch: 1, loss_train: 0.2878, accuracy_train: 0.9005, loss_valid: 0.3285, accuracy_valid: 0.8847, 1.5920sec\n",
            "バッチサイズ: 8\n",
            "epoch: 1, loss_train: 0.2839, accuracy_train: 0.9024, loss_valid: 0.3255, accuracy_valid: 0.8862, 0.8429sec\n",
            "バッチサイズ: 16\n",
            "epoch: 1, loss_train: 0.2822, accuracy_train: 0.9032, loss_valid: 0.3242, accuracy_valid: 0.8870, 0.4880sec\n",
            "バッチサイズ: 32\n",
            "epoch: 1, loss_train: 0.2814, accuracy_train: 0.9042, loss_valid: 0.3235, accuracy_valid: 0.8907, 0.3019sec\n",
            "バッチサイズ: 64\n",
            "epoch: 1, loss_train: 0.2809, accuracy_train: 0.9038, loss_valid: 0.3233, accuracy_valid: 0.8900, 0.2144sec\n",
            "バッチサイズ: 128\n",
            "epoch: 1, loss_train: 0.2806, accuracy_train: 0.9039, loss_valid: 0.3232, accuracy_valid: 0.8892, 0.1678sec\n",
            "バッチサイズ: 256\n",
            "epoch: 1, loss_train: 0.2808, accuracy_train: 0.9039, loss_valid: 0.3231, accuracy_valid: 0.8892, 0.1714sec\n",
            "バッチサイズ: 512\n",
            "epoch: 1, loss_train: 0.2805, accuracy_train: 0.9039, loss_valid: 0.3231, accuracy_valid: 0.8885, 0.1348sec\n",
            "バッチサイズ: 1024\n",
            "epoch: 1, loss_train: 0.2787, accuracy_train: 0.9040, loss_valid: 0.3231, accuracy_valid: 0.8885, 0.1277sec\n"
          ]
        }
      ]
    },
    {
      "cell_type": "markdown",
      "source": [
        "## 78. GPU上での学習\n",
        "問題77のコードを改変し，GPU上で学習を実行せよ"
      ],
      "metadata": {
        "id": "J0A-yWAJXfcT"
      }
    },
    {
      "cell_type": "code",
      "source": [
        "\"\"\"\n",
        "GPUを指定する引数deviceをcalculate_loss_and_accuracy、train_modelに追加します。\n",
        "それぞれの関数内で、モデルおよび入力TensorをGPUに送る処理を追加し、deviceにcudaを指定すればGPUを使用することができます。\n",
        "\"\"\"\n",
        "def calculate_loss_and_accuracy(model, criterion, loader, device):\n",
        "  model.eval()\n",
        "  loss = 0.0\n",
        "  total = 0\n",
        "  correct = 0\n",
        "  with torch.no_grad():\n",
        "    for inputs, labels in loader:\n",
        "      inputs = inputs.to(device)\n",
        "      labels = labels.to(device)\n",
        "      outputs = model(inputs)\n",
        "      loss += criterion(outputs, labels).item()\n",
        "      pred = torch.argmax(outputs, dim=-1)\n",
        "      total += len(inputs)\n",
        "      correct += (pred == labels).sum().item()\n",
        "\n",
        "  return loss / len(loader), correct / total\n",
        "\n",
        "\n",
        "def train_model(dataset_train, dataset_valid, batch_size, model, criterion, optimizer, num_epochs, device=None):\n",
        "  # GPUに送る\n",
        "  model.to(device)\n",
        "\n",
        "  # dataloaderの作成\n",
        "  dataloader_train = DataLoader(dataset_train, batch_size=batch_size, shuffle=True)\n",
        "  dataloader_valid = DataLoader(dataset_valid, batch_size=len(dataset_valid), shuffle=False)\n",
        "\n",
        "  # 学習\n",
        "  log_train = []\n",
        "  log_valid = []\n",
        "  for epoch in range(num_epochs):\n",
        "    # 開始時刻の記録\n",
        "    s_time = time.time()\n",
        "\n",
        "    # 訓練モードに設定\n",
        "    model.train()\n",
        "    for inputs, labels in dataloader_train:\n",
        "      # 勾配をゼロで初期化\n",
        "      optimizer.zero_grad()\n",
        "\n",
        "      # 順伝播 + 誤差逆伝播 + 重み更新\n",
        "      inputs = inputs.to(device)\n",
        "      labels = labels.to(device)\n",
        "      outputs = model.forward(inputs)\n",
        "      loss = criterion(outputs, labels)\n",
        "      loss.backward()\n",
        "      optimizer.step()\n",
        "\n",
        "    # 損失と正解率の算出\n",
        "    loss_train, acc_train = calculate_loss_and_accuracy(model, criterion, dataloader_train, device)\n",
        "    loss_valid, acc_valid = calculate_loss_and_accuracy(model, criterion, dataloader_valid, device)\n",
        "    log_train.append([loss_train, acc_train])\n",
        "    log_valid.append([loss_valid, acc_valid])\n",
        "\n",
        "    # チェックポイントの保存\n",
        "    torch.save({'epoch': epoch, 'model_state_dict': model.state_dict(), 'optimizer_state_dict': optimizer.state_dict()}, f'checkpoint{epoch + 1}.pt')\n",
        "\n",
        "    # 終了時刻の記録\n",
        "    e_time = time.time()\n",
        "\n",
        "    # ログを出力\n",
        "    print(f'epoch: {epoch + 1}, loss_train: {loss_train:.4f}, accuracy_train: {acc_train:.4f}, loss_valid: {loss_valid:.4f}, accuracy_valid: {acc_valid:.4f}, {(e_time - s_time):.4f}sec') \n",
        "\n",
        "  return {'train': log_train, 'valid': log_valid}"
      ],
      "metadata": {
        "id": "zHSQooCrX0q1"
      },
      "execution_count": 32,
      "outputs": []
    },
    {
      "cell_type": "code",
      "source": [
        "# datasetの作成\n",
        "dataset_train = NewsDataset(X_train, y_train)\n",
        "dataset_valid = NewsDataset(X_valid, y_valid)\n",
        "\n",
        "# モデルの定義\n",
        "model = SLPNet(300, 4)\n",
        "\n",
        "# 損失関数の定義\n",
        "criterion = nn.CrossEntropyLoss()\n",
        "\n",
        "# オプティマイザの定義\n",
        "optimizer = torch.optim.SGD(model.parameters(), lr=1e-1)\n",
        "\n",
        "# デバイスの指定\n",
        "device = torch.device('cuda')\n",
        "\n",
        "# モデルの学習\n",
        "for batch_size in [2 ** i for i in range(11)]:\n",
        "  print(f'バッチサイズ: {batch_size}')\n",
        "  log = train_model(dataset_train, dataset_valid, batch_size, model, criterion, optimizer, 1, device=device)"
      ],
      "metadata": {
        "colab": {
          "base_uri": "https://localhost:8080/"
        },
        "id": "sc9pjiuuX9Nd",
        "outputId": "5730820f-fa85-4875-c3cc-6a80966ac0f8"
      },
      "execution_count": 33,
      "outputs": [
        {
          "output_type": "stream",
          "name": "stdout",
          "text": [
            "バッチサイズ: 1\n",
            "epoch: 1, loss_train: 0.3420, accuracy_train: 0.8821, loss_valid: 0.3653, accuracy_valid: 0.8735, 13.7126sec\n",
            "バッチサイズ: 2\n",
            "epoch: 1, loss_train: 0.3036, accuracy_train: 0.8984, loss_valid: 0.3331, accuracy_valid: 0.8937, 7.3517sec\n",
            "バッチサイズ: 4\n",
            "epoch: 1, loss_train: 0.2935, accuracy_train: 0.9010, loss_valid: 0.3266, accuracy_valid: 0.8967, 3.4072sec\n",
            "バッチサイズ: 8\n",
            "epoch: 1, loss_train: 0.2896, accuracy_train: 0.9018, loss_valid: 0.3242, accuracy_valid: 0.8930, 1.7575sec\n",
            "バッチサイズ: 16\n",
            "epoch: 1, loss_train: 0.2874, accuracy_train: 0.9036, loss_valid: 0.3219, accuracy_valid: 0.8975, 0.9812sec\n",
            "バッチサイズ: 32\n",
            "epoch: 1, loss_train: 0.2864, accuracy_train: 0.9036, loss_valid: 0.3214, accuracy_valid: 0.8982, 0.5446sec\n",
            "バッチサイズ: 64\n",
            "epoch: 1, loss_train: 0.2860, accuracy_train: 0.9039, loss_valid: 0.3210, accuracy_valid: 0.8990, 0.3426sec\n",
            "バッチサイズ: 128\n",
            "epoch: 1, loss_train: 0.2855, accuracy_train: 0.9037, loss_valid: 0.3208, accuracy_valid: 0.8990, 0.2295sec\n",
            "バッチサイズ: 256\n",
            "epoch: 1, loss_train: 0.2855, accuracy_train: 0.9037, loss_valid: 0.3208, accuracy_valid: 0.8990, 0.8682sec\n",
            "バッチサイズ: 512\n",
            "epoch: 1, loss_train: 0.2857, accuracy_train: 0.9037, loss_valid: 0.3207, accuracy_valid: 0.8990, 0.4869sec\n",
            "バッチサイズ: 1024\n",
            "epoch: 1, loss_train: 0.2850, accuracy_train: 0.9038, loss_valid: 0.3207, accuracy_valid: 0.8990, 0.3262sec\n"
          ]
        }
      ]
    },
    {
      "cell_type": "markdown",
      "source": [
        "## 79. 多層ニューラルネットワーク\n",
        "問題78のコードを改変し，バイアス項の導入や多層化など，ニューラルネットワークの形状を変更しながら，高性能なカテゴリ分類器を構築せよ．"
      ],
      "metadata": {
        "id": "2Xb64OhgYFvm"
      }
    },
    {
      "cell_type": "code",
      "source": [
        "from torch.nn import functional as F\n",
        "\n",
        "class MLPNet(nn.Module):\n",
        "  def __init__(self, input_size, mid_size, output_size, mid_layers):\n",
        "    super().__init__()\n",
        "    self.mid_layers = mid_layers\n",
        "    self.fc = nn.Linear(input_size, mid_size)\n",
        "    self.fc_mid = nn.Linear(mid_size, mid_size)\n",
        "    self.fc_out = nn.Linear(mid_size, output_size) \n",
        "    self.bn = nn.BatchNorm1d(mid_size)\n",
        "\n",
        "  def forward(self, x):\n",
        "    x = F.relu(self.fc(x))\n",
        "    for _ in range(self.mid_layers):\n",
        "      x = F.relu(self.bn(self.fc_mid(x)))\n",
        "    x = F.relu(self.fc_out(x))\n",
        "\n",
        "    return x"
      ],
      "metadata": {
        "id": "AuO-IzbDYMnn"
      },
      "execution_count": 34,
      "outputs": []
    },
    {
      "cell_type": "code",
      "source": [
        "from torch import optim\n",
        "\n",
        "def calculate_loss_and_accuracy(model, criterion, loader, device):\n",
        "  model.eval()\n",
        "  loss = 0.0\n",
        "  total = 0\n",
        "  correct = 0\n",
        "  with torch.no_grad():\n",
        "    for inputs, labels in loader:\n",
        "      inputs = inputs.to(device)\n",
        "      labels = labels.to(device)\n",
        "      outputs = model(inputs)\n",
        "      loss += criterion(outputs, labels).item()\n",
        "      pred = torch.argmax(outputs, dim=-1)\n",
        "      total += len(inputs)\n",
        "      correct += (pred == labels).sum().item()\n",
        "\n",
        "  return loss / len(loader), correct / total\n",
        "\n",
        "\n",
        "def train_model(dataset_train, dataset_valid, batch_size, model, criterion, optimizer, num_epochs, device=None):\n",
        "  # GPUに送る\n",
        "  model.to(device)\n",
        "\n",
        "  # dataloaderの作成\n",
        "  dataloader_train = DataLoader(dataset_train, batch_size=batch_size, shuffle=True)\n",
        "  dataloader_valid = DataLoader(dataset_valid, batch_size=len(dataset_valid), shuffle=False)\n",
        "\n",
        "  # スケジューラの設定\n",
        "  scheduler = optim.lr_scheduler.CosineAnnealingLR(optimizer, num_epochs, eta_min=1e-5, last_epoch=-1)\n",
        "\n",
        "  # 学習\n",
        "  log_train = []\n",
        "  log_valid = []\n",
        "  for epoch in range(num_epochs):\n",
        "    # 開始時刻の記録\n",
        "    s_time = time.time()\n",
        "\n",
        "    # 訓練モードに設定\n",
        "    model.train()\n",
        "    for inputs, labels in dataloader_train:\n",
        "      # 勾配をゼロで初期化\n",
        "      optimizer.zero_grad()\n",
        "\n",
        "      # 順伝播 + 誤差逆伝播 + 重み更新\n",
        "      inputs = inputs.to(device)\n",
        "      labels = labels.to(device)\n",
        "      outputs = model.forward(inputs)\n",
        "      loss = criterion(outputs, labels)\n",
        "      loss.backward()\n",
        "      optimizer.step()\n",
        "\n",
        "    # 損失と正解率の算出\n",
        "    loss_train, acc_train = calculate_loss_and_accuracy(model, criterion, dataloader_train, device)\n",
        "    loss_valid, acc_valid = calculate_loss_and_accuracy(model, criterion, dataloader_valid, device)\n",
        "    log_train.append([loss_train, acc_train])\n",
        "    log_valid.append([loss_valid, acc_valid])\n",
        "\n",
        "    # チェックポイントの保存\n",
        "    torch.save({'epoch': epoch, 'model_state_dict': model.state_dict(), 'optimizer_state_dict': optimizer.state_dict()}, f'checkpoint{epoch + 1}.pt')\n",
        "\n",
        "    # 終了時刻の記録\n",
        "    e_time = time.time()\n",
        "\n",
        "    # ログを出力\n",
        "    print(f'epoch: {epoch + 1}, loss_train: {loss_train:.4f}, accuracy_train: {acc_train:.4f}, loss_valid: {loss_valid:.4f}, accuracy_valid: {acc_valid:.4f}, {(e_time - s_time):.4f}sec') \n",
        "\n",
        "    # 検証データの損失が3エポック連続で低下しなかった場合は学習終了\n",
        "    if epoch > 2 and log_valid[epoch - 3][0] <= log_valid[epoch - 2][0] <= log_valid[epoch - 1][0] <= log_valid[epoch][0]:\n",
        "      break\n",
        "\n",
        "    # スケジューラを1ステップ進める\n",
        "    scheduler.step()\n",
        "\n",
        "  return {'train': log_train, 'valid': log_valid}"
      ],
      "metadata": {
        "id": "mMdUM8CcYvLp"
      },
      "execution_count": 35,
      "outputs": []
    },
    {
      "cell_type": "code",
      "source": [
        "# datasetの作成\n",
        "dataset_train = NewsDataset(X_train, y_train)\n",
        "dataset_valid = NewsDataset(X_valid, y_valid)\n",
        "\n",
        "# モデルの定義\n",
        "model = MLPNet(300, 200, 4, 1)\n",
        "\n",
        "# 損失関数の定義\n",
        "criterion = nn.CrossEntropyLoss()\n",
        "\n",
        "# オプティマイザの定義\n",
        "optimizer = torch.optim.SGD(model.parameters(), lr=1e-3)\n",
        "\n",
        "# デバイスの指定\n",
        "device = torch.device('cuda')\n",
        "\n",
        "# モデルの学習\n",
        "log = train_model(dataset_train, dataset_valid, 64, model, criterion, optimizer, 1000, device)"
      ],
      "metadata": {
        "colab": {
          "base_uri": "https://localhost:8080/"
        },
        "id": "7vX0la8nYzYt",
        "outputId": "86f5c2ec-8a70-4173-ed31-11074bb646dc"
      },
      "execution_count": 37,
      "outputs": [
        {
          "output_type": "stream",
          "name": "stdout",
          "text": [
            "epoch: 1, loss_train: 0.8959, accuracy_train: 0.7649, loss_valid: 0.8972, accuracy_valid: 0.7650, 0.5682sec\n",
            "epoch: 2, loss_train: 0.7066, accuracy_train: 0.7778, loss_valid: 0.7085, accuracy_valid: 0.7829, 0.5315sec\n",
            "epoch: 3, loss_train: 0.6221, accuracy_train: 0.7862, loss_valid: 0.6251, accuracy_valid: 0.7829, 0.5493sec\n",
            "epoch: 4, loss_train: 0.5668, accuracy_train: 0.8026, loss_valid: 0.5713, accuracy_valid: 0.7987, 0.5438sec\n",
            "epoch: 5, loss_train: 0.5260, accuracy_train: 0.8184, loss_valid: 0.5328, accuracy_valid: 0.8091, 0.5341sec\n",
            "epoch: 6, loss_train: 0.4950, accuracy_train: 0.8313, loss_valid: 0.5031, accuracy_valid: 0.8323, 0.5292sec\n",
            "epoch: 7, loss_train: 0.4666, accuracy_train: 0.8444, loss_valid: 0.4766, accuracy_valid: 0.8383, 0.5406sec\n",
            "epoch: 8, loss_train: 0.4456, accuracy_train: 0.8574, loss_valid: 0.4570, accuracy_valid: 0.8496, 0.5547sec\n",
            "epoch: 9, loss_train: 0.4264, accuracy_train: 0.8642, loss_valid: 0.4390, accuracy_valid: 0.8525, 0.5346sec\n",
            "epoch: 10, loss_train: 0.4090, accuracy_train: 0.8696, loss_valid: 0.4232, accuracy_valid: 0.8623, 0.5580sec\n",
            "epoch: 11, loss_train: 0.3919, accuracy_train: 0.8734, loss_valid: 0.4081, accuracy_valid: 0.8645, 0.5515sec\n",
            "epoch: 12, loss_train: 0.3785, accuracy_train: 0.8804, loss_valid: 0.3954, accuracy_valid: 0.8713, 0.5587sec\n",
            "epoch: 13, loss_train: 0.3672, accuracy_train: 0.8813, loss_valid: 0.3858, accuracy_valid: 0.8728, 0.5403sec\n",
            "epoch: 14, loss_train: 0.3572, accuracy_train: 0.8867, loss_valid: 0.3770, accuracy_valid: 0.8757, 0.5408sec\n",
            "epoch: 15, loss_train: 0.3447, accuracy_train: 0.8895, loss_valid: 0.3660, accuracy_valid: 0.8787, 0.5507sec\n",
            "epoch: 16, loss_train: 0.3387, accuracy_train: 0.8919, loss_valid: 0.3610, accuracy_valid: 0.8802, 0.5377sec\n",
            "epoch: 17, loss_train: 0.3303, accuracy_train: 0.8932, loss_valid: 0.3542, accuracy_valid: 0.8795, 0.5260sec\n",
            "epoch: 18, loss_train: 0.3234, accuracy_train: 0.8975, loss_valid: 0.3482, accuracy_valid: 0.8817, 0.5449sec\n",
            "epoch: 19, loss_train: 0.3154, accuracy_train: 0.8985, loss_valid: 0.3417, accuracy_valid: 0.8840, 0.5319sec\n",
            "epoch: 20, loss_train: 0.3102, accuracy_train: 0.9009, loss_valid: 0.3377, accuracy_valid: 0.8855, 0.5628sec\n",
            "epoch: 21, loss_train: 0.3050, accuracy_train: 0.9016, loss_valid: 0.3340, accuracy_valid: 0.8862, 0.5360sec\n",
            "epoch: 22, loss_train: 0.2982, accuracy_train: 0.9028, loss_valid: 0.3287, accuracy_valid: 0.8877, 0.5263sec\n",
            "epoch: 23, loss_train: 0.2935, accuracy_train: 0.9036, loss_valid: 0.3252, accuracy_valid: 0.8870, 0.5351sec\n",
            "epoch: 24, loss_train: 0.2896, accuracy_train: 0.9055, loss_valid: 0.3226, accuracy_valid: 0.8907, 0.5361sec\n",
            "epoch: 25, loss_train: 0.2849, accuracy_train: 0.9059, loss_valid: 0.3191, accuracy_valid: 0.8885, 0.5433sec\n",
            "epoch: 26, loss_train: 0.2807, accuracy_train: 0.9070, loss_valid: 0.3167, accuracy_valid: 0.8922, 0.5460sec\n",
            "epoch: 27, loss_train: 0.2779, accuracy_train: 0.9086, loss_valid: 0.3147, accuracy_valid: 0.8915, 0.5499sec\n",
            "epoch: 28, loss_train: 0.2743, accuracy_train: 0.9105, loss_valid: 0.3126, accuracy_valid: 0.8907, 0.5436sec\n",
            "epoch: 29, loss_train: 0.2713, accuracy_train: 0.9102, loss_valid: 0.3108, accuracy_valid: 0.8960, 0.5365sec\n",
            "epoch: 30, loss_train: 0.2691, accuracy_train: 0.9106, loss_valid: 0.3095, accuracy_valid: 0.8937, 0.5253sec\n",
            "epoch: 31, loss_train: 0.2649, accuracy_train: 0.9126, loss_valid: 0.3066, accuracy_valid: 0.8952, 0.5392sec\n",
            "epoch: 32, loss_train: 0.2624, accuracy_train: 0.9130, loss_valid: 0.3050, accuracy_valid: 0.8990, 0.5289sec\n",
            "epoch: 33, loss_train: 0.2609, accuracy_train: 0.9121, loss_valid: 0.3045, accuracy_valid: 0.8967, 0.5397sec\n",
            "epoch: 34, loss_train: 0.2555, accuracy_train: 0.9165, loss_valid: 0.3012, accuracy_valid: 0.8952, 0.5266sec\n",
            "epoch: 35, loss_train: 0.2527, accuracy_train: 0.9156, loss_valid: 0.2996, accuracy_valid: 0.8982, 0.5656sec\n",
            "epoch: 36, loss_train: 0.2505, accuracy_train: 0.9174, loss_valid: 0.2984, accuracy_valid: 0.8975, 0.5482sec\n",
            "epoch: 37, loss_train: 0.2482, accuracy_train: 0.9184, loss_valid: 0.2976, accuracy_valid: 0.8960, 0.5463sec\n",
            "epoch: 38, loss_train: 0.2468, accuracy_train: 0.9189, loss_valid: 0.2967, accuracy_valid: 0.8982, 0.5470sec\n",
            "epoch: 39, loss_train: 0.2434, accuracy_train: 0.9203, loss_valid: 0.2952, accuracy_valid: 0.8982, 0.5325sec\n",
            "epoch: 40, loss_train: 0.2421, accuracy_train: 0.9206, loss_valid: 0.2949, accuracy_valid: 0.8975, 0.5502sec\n",
            "epoch: 41, loss_train: 0.2400, accuracy_train: 0.9220, loss_valid: 0.2936, accuracy_valid: 0.8997, 0.5431sec\n",
            "epoch: 42, loss_train: 0.2377, accuracy_train: 0.9224, loss_valid: 0.2927, accuracy_valid: 0.8990, 0.5495sec\n",
            "epoch: 43, loss_train: 0.2355, accuracy_train: 0.9235, loss_valid: 0.2921, accuracy_valid: 0.8990, 0.5448sec\n",
            "epoch: 44, loss_train: 0.2337, accuracy_train: 0.9231, loss_valid: 0.2911, accuracy_valid: 0.8975, 0.5394sec\n",
            "epoch: 45, loss_train: 0.2320, accuracy_train: 0.9246, loss_valid: 0.2906, accuracy_valid: 0.8990, 0.5284sec\n",
            "epoch: 46, loss_train: 0.2285, accuracy_train: 0.9252, loss_valid: 0.2889, accuracy_valid: 0.8975, 0.5495sec\n",
            "epoch: 47, loss_train: 0.2277, accuracy_train: 0.9253, loss_valid: 0.2888, accuracy_valid: 0.8990, 0.5335sec\n",
            "epoch: 48, loss_train: 0.2266, accuracy_train: 0.9264, loss_valid: 0.2886, accuracy_valid: 0.8967, 0.5408sec\n",
            "epoch: 49, loss_train: 0.2241, accuracy_train: 0.9262, loss_valid: 0.2874, accuracy_valid: 0.8975, 0.5365sec\n",
            "epoch: 50, loss_train: 0.2237, accuracy_train: 0.9279, loss_valid: 0.2881, accuracy_valid: 0.8975, 0.5381sec\n",
            "epoch: 51, loss_train: 0.2211, accuracy_train: 0.9274, loss_valid: 0.2870, accuracy_valid: 0.8967, 0.5292sec\n",
            "epoch: 52, loss_train: 0.2195, accuracy_train: 0.9295, loss_valid: 0.2860, accuracy_valid: 0.8997, 0.5395sec\n",
            "epoch: 53, loss_train: 0.2174, accuracy_train: 0.9296, loss_valid: 0.2854, accuracy_valid: 0.8997, 0.5274sec\n",
            "epoch: 54, loss_train: 0.2152, accuracy_train: 0.9299, loss_valid: 0.2846, accuracy_valid: 0.9012, 0.5258sec\n",
            "epoch: 55, loss_train: 0.2146, accuracy_train: 0.9302, loss_valid: 0.2852, accuracy_valid: 0.9012, 0.5429sec\n",
            "epoch: 56, loss_train: 0.2134, accuracy_train: 0.9306, loss_valid: 0.2845, accuracy_valid: 0.9019, 0.5393sec\n",
            "epoch: 57, loss_train: 0.2123, accuracy_train: 0.9306, loss_valid: 0.2845, accuracy_valid: 0.9012, 0.5459sec\n",
            "epoch: 58, loss_train: 0.2093, accuracy_train: 0.9321, loss_valid: 0.2833, accuracy_valid: 0.8990, 0.5341sec\n",
            "epoch: 59, loss_train: 0.2085, accuracy_train: 0.9333, loss_valid: 0.2832, accuracy_valid: 0.9034, 0.5728sec\n",
            "epoch: 60, loss_train: 0.2078, accuracy_train: 0.9317, loss_valid: 0.2835, accuracy_valid: 0.8990, 0.5498sec\n",
            "epoch: 61, loss_train: 0.2053, accuracy_train: 0.9335, loss_valid: 0.2824, accuracy_valid: 0.8997, 0.5415sec\n",
            "epoch: 62, loss_train: 0.2038, accuracy_train: 0.9333, loss_valid: 0.2824, accuracy_valid: 0.9004, 0.5558sec\n",
            "epoch: 63, loss_train: 0.2023, accuracy_train: 0.9343, loss_valid: 0.2814, accuracy_valid: 0.8990, 0.5475sec\n",
            "epoch: 64, loss_train: 0.2033, accuracy_train: 0.9331, loss_valid: 0.2830, accuracy_valid: 0.8982, 0.5378sec\n",
            "epoch: 65, loss_train: 0.2020, accuracy_train: 0.9343, loss_valid: 0.2833, accuracy_valid: 0.8975, 0.5342sec\n",
            "epoch: 66, loss_train: 0.1987, accuracy_train: 0.9364, loss_valid: 0.2804, accuracy_valid: 0.9019, 0.5389sec\n",
            "epoch: 67, loss_train: 0.1981, accuracy_train: 0.9356, loss_valid: 0.2816, accuracy_valid: 0.8982, 0.5412sec\n",
            "epoch: 68, loss_train: 0.1975, accuracy_train: 0.9374, loss_valid: 0.2810, accuracy_valid: 0.9027, 0.5434sec\n",
            "epoch: 69, loss_train: 0.1956, accuracy_train: 0.9369, loss_valid: 0.2814, accuracy_valid: 0.8997, 0.5445sec\n",
            "epoch: 70, loss_train: 0.1935, accuracy_train: 0.9364, loss_valid: 0.2806, accuracy_valid: 0.9004, 0.5409sec\n",
            "epoch: 71, loss_train: 0.1931, accuracy_train: 0.9382, loss_valid: 0.2802, accuracy_valid: 0.9012, 0.5342sec\n",
            "epoch: 72, loss_train: 0.1905, accuracy_train: 0.9381, loss_valid: 0.2798, accuracy_valid: 0.8982, 0.5358sec\n",
            "epoch: 73, loss_train: 0.1893, accuracy_train: 0.9376, loss_valid: 0.2800, accuracy_valid: 0.8997, 0.5287sec\n",
            "epoch: 74, loss_train: 0.1891, accuracy_train: 0.9381, loss_valid: 0.2804, accuracy_valid: 0.8982, 0.5430sec\n",
            "epoch: 75, loss_train: 0.1878, accuracy_train: 0.9399, loss_valid: 0.2799, accuracy_valid: 0.9012, 0.5545sec\n",
            "epoch: 76, loss_train: 0.1864, accuracy_train: 0.9412, loss_valid: 0.2802, accuracy_valid: 0.9019, 0.5523sec\n",
            "epoch: 77, loss_train: 0.1859, accuracy_train: 0.9408, loss_valid: 0.2809, accuracy_valid: 0.8990, 0.5544sec\n",
            "epoch: 78, loss_train: 0.1839, accuracy_train: 0.9406, loss_valid: 0.2791, accuracy_valid: 0.9019, 0.5457sec\n",
            "epoch: 79, loss_train: 0.1826, accuracy_train: 0.9413, loss_valid: 0.2788, accuracy_valid: 0.9042, 0.5513sec\n",
            "epoch: 80, loss_train: 0.1819, accuracy_train: 0.9422, loss_valid: 0.2798, accuracy_valid: 0.9004, 0.5445sec\n",
            "epoch: 81, loss_train: 0.1802, accuracy_train: 0.9417, loss_valid: 0.2787, accuracy_valid: 0.9042, 0.8033sec\n",
            "epoch: 82, loss_train: 0.1790, accuracy_train: 0.9425, loss_valid: 0.2788, accuracy_valid: 0.9019, 0.9177sec\n",
            "epoch: 83, loss_train: 0.1785, accuracy_train: 0.9423, loss_valid: 0.2796, accuracy_valid: 0.9019, 0.8877sec\n",
            "epoch: 84, loss_train: 0.1770, accuracy_train: 0.9428, loss_valid: 0.2785, accuracy_valid: 0.9034, 1.3167sec\n",
            "epoch: 85, loss_train: 0.1762, accuracy_train: 0.9436, loss_valid: 0.2787, accuracy_valid: 0.9034, 0.9091sec\n",
            "epoch: 86, loss_train: 0.1741, accuracy_train: 0.9440, loss_valid: 0.2783, accuracy_valid: 0.9034, 0.9496sec\n",
            "epoch: 87, loss_train: 0.1735, accuracy_train: 0.9448, loss_valid: 0.2789, accuracy_valid: 0.9027, 0.9396sec\n",
            "epoch: 88, loss_train: 0.1719, accuracy_train: 0.9450, loss_valid: 0.2787, accuracy_valid: 0.9034, 0.6144sec\n",
            "epoch: 89, loss_train: 0.1715, accuracy_train: 0.9452, loss_valid: 0.2787, accuracy_valid: 0.9042, 0.5453sec\n",
            "epoch: 90, loss_train: 0.1703, accuracy_train: 0.9463, loss_valid: 0.2786, accuracy_valid: 0.9027, 0.5328sec\n",
            "epoch: 91, loss_train: 0.1699, accuracy_train: 0.9453, loss_valid: 0.2794, accuracy_valid: 0.9019, 0.5429sec\n",
            "epoch: 92, loss_train: 0.1684, accuracy_train: 0.9464, loss_valid: 0.2785, accuracy_valid: 0.9027, 0.5324sec\n",
            "epoch: 93, loss_train: 0.1666, accuracy_train: 0.9465, loss_valid: 0.2785, accuracy_valid: 0.9049, 0.5314sec\n",
            "epoch: 94, loss_train: 0.1667, accuracy_train: 0.9466, loss_valid: 0.2791, accuracy_valid: 0.9027, 0.5428sec\n",
            "epoch: 95, loss_train: 0.1656, accuracy_train: 0.9476, loss_valid: 0.2784, accuracy_valid: 0.9027, 0.5453sec\n",
            "epoch: 96, loss_train: 0.1634, accuracy_train: 0.9480, loss_valid: 0.2785, accuracy_valid: 0.9012, 0.5549sec\n",
            "epoch: 97, loss_train: 0.1641, accuracy_train: 0.9480, loss_valid: 0.2794, accuracy_valid: 0.9012, 0.5469sec\n",
            "epoch: 98, loss_train: 0.1613, accuracy_train: 0.9490, loss_valid: 0.2789, accuracy_valid: 0.9019, 0.5401sec\n",
            "epoch: 99, loss_train: 0.1610, accuracy_train: 0.9493, loss_valid: 0.2785, accuracy_valid: 0.9019, 0.5285sec\n",
            "epoch: 100, loss_train: 0.1598, accuracy_train: 0.9496, loss_valid: 0.2784, accuracy_valid: 0.9019, 0.5227sec\n",
            "epoch: 101, loss_train: 0.1592, accuracy_train: 0.9487, loss_valid: 0.2790, accuracy_valid: 0.9027, 0.5449sec\n",
            "epoch: 102, loss_train: 0.1582, accuracy_train: 0.9500, loss_valid: 0.2782, accuracy_valid: 0.9034, 0.5332sec\n",
            "epoch: 103, loss_train: 0.1579, accuracy_train: 0.9505, loss_valid: 0.2788, accuracy_valid: 0.9012, 0.5449sec\n",
            "epoch: 104, loss_train: 0.1562, accuracy_train: 0.9497, loss_valid: 0.2783, accuracy_valid: 0.9042, 0.5311sec\n",
            "epoch: 105, loss_train: 0.1549, accuracy_train: 0.9504, loss_valid: 0.2785, accuracy_valid: 0.9034, 0.5454sec\n",
            "epoch: 106, loss_train: 0.1537, accuracy_train: 0.9506, loss_valid: 0.2799, accuracy_valid: 0.9034, 0.5477sec\n",
            "epoch: 107, loss_train: 0.1544, accuracy_train: 0.9515, loss_valid: 0.2813, accuracy_valid: 0.9019, 0.5396sec\n"
          ]
        }
      ]
    },
    {
      "cell_type": "code",
      "source": [
        "fig, ax = plt.subplots(1, 2, figsize=(15, 5))\n",
        "ax[0].plot(np.array(log['train']).T[0], label='train')\n",
        "ax[0].plot(np.array(log['valid']).T[0], label='valid')\n",
        "ax[0].set_xlabel('epoch')\n",
        "ax[0].set_ylabel('loss')\n",
        "ax[0].legend()\n",
        "ax[1].plot(np.array(log['train']).T[1], label='train')\n",
        "ax[1].plot(np.array(log['valid']).T[1], label='valid')\n",
        "ax[1].set_xlabel('epoch')\n",
        "ax[1].set_ylabel('accuracy')\n",
        "ax[1].legend()\n",
        "plt.show()"
      ],
      "metadata": {
        "colab": {
          "base_uri": "https://localhost:8080/",
          "height": 334
        },
        "id": "3-7rDVvNZBH0",
        "outputId": "cefde8a3-ee42-4d5f-adb2-b44b0257b37c"
      },
      "execution_count": 38,
      "outputs": [
        {
          "output_type": "display_data",
          "data": {
            "text/plain": [
              "<Figure size 1080x360 with 2 Axes>"
            ],
            "image/png": "[encoded data removed]"
          },
          "metadata": {
            "needs_background": "light"
          }
        }
      ]
    },
    {
      "cell_type": "code",
      "source": [
        "def calculate_accuracy(model, loader, device):\n",
        "  model.eval()\n",
        "  total = 0\n",
        "  correct = 0\n",
        "  with torch.no_grad():\n",
        "    for inputs, labels in loader:\n",
        "      inputs = inputs.to(device)\n",
        "      labels = labels.to(device)\n",
        "      outputs = model(inputs)\n",
        "      pred = torch.argmax(outputs, dim=-1)\n",
        "      total += len(inputs)\n",
        "      correct += (pred == labels).sum().item()\n",
        "\n",
        "  return correct / total"
      ],
      "metadata": {
        "id": "Cj4jIDHKZQt5"
      },
      "execution_count": 39,
      "outputs": []
    },
    {
      "cell_type": "code",
      "source": [
        "# 正解率の確認\n",
        "acc_train = calculate_accuracy(model, dataloader_train, device)\n",
        "acc_test = calculate_accuracy(model, dataloader_test, device)\n",
        "print(f'正解率（学習データ）：{acc_train:.3f}')\n",
        "print(f'正解率（評価データ）：{acc_test:.3f}')"
      ],
      "metadata": {
        "colab": {
          "base_uri": "https://localhost:8080/"
        },
        "id": "ZbL915wbZZ55",
        "outputId": "fea9c48c-18c7-4f79-b87d-ac53fc59f269"
      },
      "execution_count": 40,
      "outputs": [
        {
          "output_type": "stream",
          "name": "stdout",
          "text": [
            "正解率（学習データ）：0.952\n",
            "正解率（評価データ）：0.912\n"
          ]
        }
      ]
    },
    {
      "cell_type": "code",
      "source": [
        ""
      ],
      "metadata": {
        "id": "nhqnaaazZbY9"
      },
      "execution_count": null,
      "outputs": []
    }
  ]
}