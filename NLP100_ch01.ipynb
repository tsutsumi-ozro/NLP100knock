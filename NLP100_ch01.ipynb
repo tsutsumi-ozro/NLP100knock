{
  "nbformat": 4,
  "nbformat_minor": 0,
  "metadata": {
    "colab": {
      "name": "NLP100_ch01",
      "provenance": [],
      "authorship_tag": "ABX9TyN/M0TmZ4qKxbTwPig4FlZH",
      "include_colab_link": true
    },
    "kernelspec": {
      "name": "python3",
      "display_name": "Python 3"
    },
    "language_info": {
      "name": "python"
    }
  },
  "cells": [
    {
      "cell_type": "markdown",
      "metadata": {
        "id": "view-in-github",
        "colab_type": "text"
      },
      "source": [
        "<a href=\"https://colab.research.google.com/github/tsutsumi-ozro/NLP100knock/blob/main/NLP100_ch01.ipynb\" target=\"_parent\"><img src=\"https://colab.research.google.com/assets/colab-badge.svg\" alt=\"Open In Colab\"/></a>"
      ]
    },
    {
      "cell_type": "markdown",
      "source": [
        "[言語処理100本ノック](https://nlp100.github.io/ja/ch01.html)<br>\n",
        "解答を見た問題：なし<br>\n",
        "模範解答として用いるサイト：[【言語処理100本ノック 2020】Pythonによる解答例まとめ](https://qiita.com/yamaru/items/0cac24710626333bd693#%E3%81%AF%E3%81%98%E3%82%81%E3%81%AB)"
      ],
      "metadata": {
        "id": "tqK1VLcKjnNu"
      }
    },
    {
      "cell_type": "markdown",
      "source": [
        "#第1章: 準備運動"
      ],
      "metadata": {
        "id": "iRUTc7S9f3FJ"
      }
    },
    {
      "cell_type": "markdown",
      "source": [
        "## 00. 文字列の逆順\n",
        "文字列”stressed”の文字を逆に（末尾から先頭に向かって）並べた文字列を得よ．\n"
      ],
      "metadata": {
        "id": "DT7CNz7lf3Ch"
      }
    },
    {
      "cell_type": "code",
      "source": [
        "text = 'stressed'\n",
        "print(text[::-1])"
      ],
      "metadata": {
        "colab": {
          "base_uri": "https://localhost:8080/"
        },
        "id": "us0wafDtgyvu",
        "outputId": "b15320e6-5ade-4502-8265-f7687bf39239"
      },
      "execution_count": null,
      "outputs": [
        {
          "output_type": "stream",
          "name": "stdout",
          "text": [
            "desserts\n"
          ]
        }
      ]
    },
    {
      "cell_type": "markdown",
      "source": [
        "## 01. 「パタトクカシーー」\n",
        "「パタトクカシーー」という文字列の1,3,5,7文字目を取り出して連結した文字列を得よ．"
      ],
      "metadata": {
        "id": "BeWKAbPaf2_8"
      }
    },
    {
      "cell_type": "code",
      "source": [
        "text = 'パタトクカシーー'\n",
        "print(text[::2])"
      ],
      "metadata": {
        "colab": {
          "base_uri": "https://localhost:8080/"
        },
        "id": "N2L7F9AwgzYU",
        "outputId": "b897533a-dcbf-4b1a-822a-3bf9cf7e7614"
      },
      "execution_count": null,
      "outputs": [
        {
          "output_type": "stream",
          "name": "stdout",
          "text": [
            "パトカー\n"
          ]
        }
      ]
    },
    {
      "cell_type": "markdown",
      "source": [
        "## 02. 「パトカー」＋「タクシー」＝「パタトクカシーー」\n",
        "「パトカー」＋「タクシー」の文字を先頭から交互に連結して文字列「パタトクカシーー」を得よ．"
      ],
      "metadata": {
        "id": "1cC3VKd2f29a"
      }
    },
    {
      "cell_type": "code",
      "source": [
        "text_1 = 'パトカー'\n",
        "text_2 = 'タクシー'\n",
        "text = []\n",
        "for i in range(4):\n",
        "     text.append(text_1[i])\n",
        "     text.append(text_2[i])\n",
        "text = ''.join(text)\n",
        "print(text)\n",
        "\n",
        "#模範解答\n",
        "\"\"\"\n",
        "ans = ''.join([i + j for i, j in zip(str1, str2)])\n",
        "\"\"\""
      ],
      "metadata": {
        "colab": {
          "base_uri": "https://localhost:8080/"
        },
        "id": "webwwp-Egz0Z",
        "outputId": "766ec3be-8fdd-4b50-c7f6-e9e428f8a39c"
      },
      "execution_count": null,
      "outputs": [
        {
          "output_type": "stream",
          "name": "stdout",
          "text": [
            "パタトクカシーー\n"
          ]
        }
      ]
    },
    {
      "cell_type": "markdown",
      "source": [
        "## 03. 円周率\n",
        "“Now I need a drink, alcoholic of course, after the heavy lectures involving quantum mechanics.”という文を単語に分解し，各単語の（アルファベットの）文字数を先頭から出現順に並べたリストを作成せよ．\n",
        "\n"
      ],
      "metadata": {
        "id": "uSYrY_E6f27R"
      }
    },
    {
      "cell_type": "code",
      "source": [
        "text = 'Now I need a drink, alcoholic of course, after the heavy lectures involving quantum mechanics.'\n",
        "split_text = text.replace(',', '')\n",
        "split_text = split_text.replace('.', '')\n",
        "split_text = split_text.split()\n",
        "word_len = []\n",
        "for i in range(len(split_text)):\n",
        "    word_len.append(len(split_text[i]))\n",
        "word_len\n",
        "\n",
        "#円周率ってそういうことね\n",
        "#模範解答によると re.subというものがあるらしい\n"
      ],
      "metadata": {
        "colab": {
          "base_uri": "https://localhost:8080/"
        },
        "id": "hb86PD-cg0gh",
        "outputId": "dcc8cb7c-53c1-4dbd-e0f7-dd6f6b645020"
      },
      "execution_count": 88,
      "outputs": [
        {
          "output_type": "execute_result",
          "data": {
            "text/plain": [
              "[3, 1, 4, 1, 5, 9, 2, 6, 5, 3, 5, 8, 9, 7, 9]"
            ]
          },
          "metadata": {},
          "execution_count": 88
        }
      ]
    },
    {
      "cell_type": "markdown",
      "source": [
        "## 04. 元素記号\n",
        "“Hi He Lied Because Boron Could Not Oxidize Fluorine. New Nations Might Also Sign Peace Security Clause. Arthur King Can.”という文を単語に分解し，1, 5, 6, 7, 8, 9, 15, 16, 19番目の単語は先頭の1文字，それ以外の単語は先頭の2文字を取り出し，取り出した文字列から単語の位置（先頭から何番目の単語か）への連想配列（辞書型もしくはマップ型）を作成せよ．"
      ],
      "metadata": {
        "id": "lKvswdOnf24a"
      }
    },
    {
      "cell_type": "code",
      "source": [
        "from collections import defaultdict\n",
        "text = 'Hi He Lied Because Boron Could Not Oxidize Fluorine. New Nations Might Also Sign Peace Security Clause. Arthur King Can.'\n",
        "ans_dict = defaultdict(int)\n",
        "text_split = text.split()\n",
        "for i in range(len(text_split)):\n",
        "    if i==0 or i==4 or i==5 or i==6 or i==7 or i==8 or i==14 or i==15 or i==18:\n",
        "        ans_dict[text_split[i][0]] += i+1\n",
        "    else:\n",
        "        ans_dict[text_split[i][:2]] += i+1"
      ],
      "metadata": {
        "id": "2Kpm72C-g1Hv"
      },
      "execution_count": 18,
      "outputs": []
    },
    {
      "cell_type": "code",
      "source": [
        "ans_dict\n",
        "#元素記号ってそういうことね！！"
      ],
      "metadata": {
        "colab": {
          "base_uri": "https://localhost:8080/"
        },
        "id": "7fjUdJ0_nDJl",
        "outputId": "04352653-0436-40a9-eed9-ac000d0cc6d0"
      },
      "execution_count": 21,
      "outputs": [
        {
          "output_type": "execute_result",
          "data": {
            "text/plain": [
              "defaultdict(int,\n",
              "            {'Al': 13,\n",
              "             'Ar': 18,\n",
              "             'B': 5,\n",
              "             'Be': 4,\n",
              "             'C': 6,\n",
              "             'Ca': 20,\n",
              "             'Cl': 17,\n",
              "             'F': 9,\n",
              "             'H': 1,\n",
              "             'He': 2,\n",
              "             'K': 19,\n",
              "             'Li': 3,\n",
              "             'Mi': 12,\n",
              "             'N': 7,\n",
              "             'Na': 11,\n",
              "             'Ne': 10,\n",
              "             'O': 8,\n",
              "             'P': 15,\n",
              "             'S': 16,\n",
              "             'Si': 14})"
            ]
          },
          "metadata": {},
          "execution_count": 21
        }
      ]
    },
    {
      "cell_type": "markdown",
      "source": [
        "## 05. n-gram\n",
        "与えられたシーケンス（文字列やリストなど）からn-gramを作る関数を作成せよ．この関数を用い，”I am an NLPer”という文から単語bi-gram，文字bi-gramを得よ"
      ],
      "metadata": {
        "id": "y-v_jFoaf22S"
      }
    },
    {
      "cell_type": "code",
      "source": [
        "def ngram(text, n, word):\n",
        "    n_gram = []\n",
        "    if word:\n",
        "        word = text.split()\n",
        "        for i in range(len(word)-n+1):\n",
        "            n_gram.append(' '.join(word[i:i+n]))\n",
        "        return n_gram\n",
        "    text = text.replace(' ', '')\n",
        "    for i in range(len(text)-n+1):\n",
        "        n_gram.append(text[i:i+n])\n",
        "    return n_gram\n",
        "\n",
        "#模範解答\n",
        "\"\"\"\n",
        "def ngram(n, lst):\n",
        "    return list(zip(*[list[i:] for i in range(n)]))\n",
        "\"\"\"\n"
      ],
      "metadata": {
        "id": "u9a3JsESg1uG"
      },
      "execution_count": 51,
      "outputs": []
    },
    {
      "cell_type": "code",
      "source": [
        "text = 'I am an NLPer'\n",
        "ngram(text, 2, word=False)"
      ],
      "metadata": {
        "colab": {
          "base_uri": "https://localhost:8080/"
        },
        "id": "XZQhWgHPqzTu",
        "outputId": "2eddfdc0-53d6-4811-ae1e-b0afa6e4f434"
      },
      "execution_count": 47,
      "outputs": [
        {
          "output_type": "execute_result",
          "data": {
            "text/plain": [
              "['Ia', 'am', 'ma', 'an', 'nN', 'NL', 'LP', 'Pe', 'er']"
            ]
          },
          "metadata": {},
          "execution_count": 47
        }
      ]
    },
    {
      "cell_type": "code",
      "source": [
        "ngram(text, 2, word=True)"
      ],
      "metadata": {
        "colab": {
          "base_uri": "https://localhost:8080/"
        },
        "id": "CakIbXWkr_Ey",
        "outputId": "7cb0028a-3e21-422e-afbc-94846c522632"
      },
      "execution_count": 52,
      "outputs": [
        {
          "output_type": "execute_result",
          "data": {
            "text/plain": [
              "['I am', 'am an', 'an NLPer']"
            ]
          },
          "metadata": {},
          "execution_count": 52
        }
      ]
    },
    {
      "cell_type": "markdown",
      "source": [
        "## 06. 集合\n",
        "“paraparaparadise”と”paragraph”に含まれる文字bi-gramの集合を，それぞれ, XとYとして求め，XとYの和集合，積集合，差集合を求めよ．さらに，’se’というbi-gramがXおよびYに含まれるかどうかを調べよ"
      ],
      "metadata": {
        "id": "_OkRLe5Kf20D"
      }
    },
    {
      "cell_type": "code",
      "source": [
        "text_1 = \"paraparaparadise\"\n",
        "text_2 = \"paragraph\"\n",
        "X = ngram(text_1, 2,  word=False)\n",
        "Y = ngram(text_2, 2, word=False)\n",
        "X = set(X)\n",
        "Y = set(Y)\n",
        "print(f'和集合: {X|Y}')\n",
        "print(f'積集合: {X&Y}')\n",
        "print(f'差集合: {X-Y}')"
      ],
      "metadata": {
        "id": "imN8ejlyg2XM",
        "colab": {
          "base_uri": "https://localhost:8080/"
        },
        "outputId": "7610bcd1-4736-4aea-cb16-4ccaf4e47083"
      },
      "execution_count": 56,
      "outputs": [
        {
          "output_type": "stream",
          "name": "stdout",
          "text": [
            "和集合: {'ad', 'gr', 'se', 'ra', 'ph', 'pa', 'di', 'ag', 'ar', 'ap', 'is'}\n",
            "積集合: {'ra', 'ar', 'pa', 'ap'}\n",
            "差集合: {'is', 'ad', 'di', 'se'}\n"
          ]
        }
      ]
    },
    {
      "cell_type": "code",
      "source": [
        "#seが含まれるかどうか\n",
        "if 'se' in X or 'se' in Y:\n",
        "    print('Yes')\n",
        "else:\n",
        "    print('No')"
      ],
      "metadata": {
        "colab": {
          "base_uri": "https://localhost:8080/"
        },
        "id": "sLyAcmmTuyhZ",
        "outputId": "dabb1294-6216-4128-9aed-46bfed78fcf7"
      },
      "execution_count": 58,
      "outputs": [
        {
          "output_type": "stream",
          "name": "stdout",
          "text": [
            "Yes\n"
          ]
        }
      ]
    },
    {
      "cell_type": "markdown",
      "source": [
        "## 07. テンプレートによる文生成\n",
        "引数x, y, zを受け取り「x時のyはz」という文字列を返す関数を実装せよ．さらに，x=12, y=”気温”, z=22.4として，実行結果を確認せよ．"
      ],
      "metadata": {
        "id": "lr0kZVv9f2xt"
      }
    },
    {
      "cell_type": "code",
      "source": [
        "def temp(x, y, z):\n",
        "    return (f'{x}時の{y}は{z}')\n",
        "temp(12, '気温', 22.4)"
      ],
      "metadata": {
        "id": "QwfK6ceKg3HV",
        "colab": {
          "base_uri": "https://localhost:8080/",
          "height": 35
        },
        "outputId": "e6a53db6-49be-4569-dd66-3875ddb91661"
      },
      "execution_count": 59,
      "outputs": [
        {
          "output_type": "execute_result",
          "data": {
            "text/plain": [
              "'12時の気温は22.4'"
            ],
            "application/vnd.google.colaboratory.intrinsic+json": {
              "type": "string"
            }
          },
          "metadata": {},
          "execution_count": 59
        }
      ]
    },
    {
      "cell_type": "markdown",
      "source": [
        "## 08. 暗号文\n",
        "与えられた文字列の各文字を，以下の仕様で変換する関数cipherを実装せよ．\n",
        "\n",
        "\n",
        "*   英小文字ならば(219 - 文字コード)の文字に置換\n",
        "*   その他の文字はそのまま出力\n",
        "\n",
        "\n",
        "この関数を用い，英語のメッセージを暗号化・復号化せよ"
      ],
      "metadata": {
        "id": "wnvpz3rkf2vW"
      }
    },
    {
      "cell_type": "code",
      "source": [
        "def cipher(text):\n",
        "    text = list(text)\n",
        "    for i in range(len(text)):\n",
        "        if 97<=ord(text[i])<=122:\n",
        "            text[i] = chr(219 - ord(text[i]))\n",
        "    return ''.join(text)"
      ],
      "metadata": {
        "id": "BG4zk106g3yn"
      },
      "execution_count": 67,
      "outputs": []
    },
    {
      "cell_type": "code",
      "source": [
        "text = 'Hi. I am Daiki Tsutsumi. I am NLPer.'\n",
        "cipher(text)"
      ],
      "metadata": {
        "colab": {
          "base_uri": "https://localhost:8080/",
          "height": 35
        },
        "id": "zwkWmNIbxgwr",
        "outputId": "ff10cd2e-f8df-4416-c9cd-c4bb3477b7a3"
      },
      "execution_count": 68,
      "outputs": [
        {
          "output_type": "execute_result",
          "data": {
            "text/plain": [
              "'Hr. I zn Dzrpr Thfghfnr. I zn NLPvi.'"
            ],
            "application/vnd.google.colaboratory.intrinsic+json": {
              "type": "string"
            }
          },
          "metadata": {},
          "execution_count": 68
        }
      ]
    },
    {
      "cell_type": "markdown",
      "source": [
        "## 09. Typoglycemia\n",
        "スペースで区切られた単語列に対して，各単語の先頭と末尾の文字は残し，それ以外の文字の順序をランダムに並び替えるプログラムを作成せよ．ただし，長さが４以下の単語は並び替えないこととする．適当な英語の文（例えば”I couldn’t believe that I could actually understand what I was reading : the phenomenal power of the human mind .”）を与え，その実行結果を確認せよ．"
      ],
      "metadata": {
        "id": "bSBqQoMEf2sv"
      }
    },
    {
      "cell_type": "code",
      "execution_count": 85,
      "metadata": {
        "id": "D3hen_vRfWl0"
      },
      "outputs": [],
      "source": [
        "import random\n",
        "def typoglycemia(text):\n",
        "    ans = []\n",
        "    word = text.split()\n",
        "    for i in word:\n",
        "        if len(i)<=4:\n",
        "            ans.append(i)\n",
        "        else:\n",
        "            ans_word = i[0] +''.join(random.sample(i[1:-1], len(i)-2)) + i[-1]\n",
        "            ans.append(ans_word)\n",
        "    return ' '.join(ans)"
      ]
    },
    {
      "cell_type": "code",
      "source": [
        "text = 'I couldn’t believe that I could actually understand what I was reading : the phenomenal power of the human mind .'\n",
        "print(typoglycemia(text))"
      ],
      "metadata": {
        "colab": {
          "base_uri": "https://localhost:8080/"
        },
        "id": "-ncpQaDY0QbG",
        "outputId": "8a9d5520-4059-4d3b-8768-e0231a6c1975"
      },
      "execution_count": 86,
      "outputs": [
        {
          "output_type": "stream",
          "name": "stdout",
          "text": [
            "I c’olndut blvieee that I cloud altcluay udrtenasnd what I was redaing : the panhoeneml power of the huamn mind .\n"
          ]
        }
      ]
    },
    {
      "cell_type": "code",
      "source": [
        ""
      ],
      "metadata": {
        "id": "bIoEjGEg07vw"
      },
      "execution_count": null,
      "outputs": []
    }
  ]
}